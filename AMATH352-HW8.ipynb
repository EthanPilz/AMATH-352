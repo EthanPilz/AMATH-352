{
 "cells": [
  {
   "cell_type": "markdown",
   "id": "b1d2e3ff",
   "metadata": {},
   "source": [
    "# AMATH 352B\n",
    "\n",
    "## Homework Assignment #8 - due 6/3/2022\n",
    "\n",
    "This Jupyter Notebook consists of several cells.  Some of the cells are **Markdown** cells, and some of the cells are **Code** cells.\n",
    "\n",
    "Once you have honed your Notebook to the point where you're ready to turn it in, convert the Notebook to HTML and upload both the Notebook (the .ipynb file) and the HTML version of it to Canvas.  There are potentially issues in the conversion involving figures, graphics, and imported files to solve, so leave yourself enough time to get this done."
   ]
  },
  {
   "cell_type": "code",
   "execution_count": 1,
   "id": "dd4440d0",
   "metadata": {},
   "outputs": [],
   "source": [
    "from math import *\n",
    "import numpy as np\n",
    "from scipy.linalg import lu_factor, lu_solve\n",
    "from scipy.linalg import qr, solve_triangular\n",
    "import matplotlib as mpl\n",
    "import matplotlib.pyplot as plt"
   ]
  },
  {
   "cell_type": "markdown",
   "id": "567d070b",
   "metadata": {},
   "source": [
    "## Problem #1\n",
    "\n",
    "Determine an orthogonal basis for $\\hbox{ker}(A)$ and an orthogonal basis for $\\hbox{ran}(A^T)$ by calling the numpy routine ``np.linalg.svd``:\n",
    "\n",
    "$$A=\\begin{pmatrix}1 & 2 & 3\\cr 4 & 5 & 6\\cr\\end{pmatrix}$$"
   ]
  },
  {
   "cell_type": "code",
   "execution_count": 2,
   "id": "ba1f67b6",
   "metadata": {},
   "outputs": [
    {
     "name": "stdout",
     "output_type": "stream",
     "text": [
      "Non-zero singular values = 2\n",
      "Kernel basis: \n",
      " [ 0.40824829 -0.81649658  0.40824829] \n",
      "\n",
      "Range basis: \n",
      " [[-0.42866713 -0.80596391]\n",
      " [-0.56630692 -0.11238241]\n",
      " [-0.7039467   0.58119908]]\n"
     ]
    }
   ],
   "source": [
    "A = np.array(([1, 2, 3],\n",
    "              [4, 5, 6]))\n",
    "m = 2\n",
    "n = 3\n",
    "u, s, vt = np.linalg.svd(A)\n",
    "\n",
    "nonzerosingular = 0\n",
    "for i in range (s.size):\n",
    "    if (abs(s[i]) > sqrt(np.finfo(float).eps)):\n",
    "        nonzerosingular += 1\n",
    "        \n",
    "print(\"Non-zero singular values =\", nonzerosingular)\n",
    "\n",
    "#The matrix Σ has exactly \"d\" non-zero singular values\n",
    "#Then the last n−d columns of V form a basis for ker(A)\n",
    "\n",
    "kernel_basis = vt.T[:,2]\n",
    "print(\"Kernel basis:\", \"\\n\", kernel_basis, \"\\n\")\n",
    "\n",
    "#The first d columns of V form a basis for ran(A.T)\n",
    "range_basis = vt.T[:, 0:nonzerosingular]\n",
    "print(\"Range basis:\", \"\\n\", range_basis)"
   ]
  },
  {
   "cell_type": "markdown",
   "id": "7a63fbd8",
   "metadata": {},
   "source": [
    "## Problem #2\n",
    "\n",
    "For the matrix given in Problem #1, determine the minimum norm solution to\n",
    "\n",
    "$$Ax=\\begin{pmatrix}1\\cr 1\\cr\\end{pmatrix}$$"
   ]
  },
  {
   "cell_type": "code",
   "execution_count": 3,
   "id": "cab8c915",
   "metadata": {},
   "outputs": [
    {
     "name": "stdout",
     "output_type": "stream",
     "text": [
      "Solution: [-5.00000000e-01 -3.46944695e-16  5.00000000e-01]\n",
      "norm: 0.7071067811865477\n"
     ]
    }
   ],
   "source": [
    "# we can solve this problem with the SVD\n",
    "rhs = np.array(([1, 1]))\n",
    "u, s, vt = np.linalg.svd(A)\n",
    "utb = u.T @ rhs / s\n",
    "soln = utb[0] * vt[0] + utb[1] * vt[1] #+ utb[2] * vt[2]\n",
    "print(\"Solution:\", soln)\n",
    "print(\"norm:\", np.linalg.norm(soln))"
   ]
  },
  {
   "cell_type": "markdown",
   "id": "65b9c966",
   "metadata": {},
   "source": [
    "## Problem #3\n",
    "\n",
    "Determine another solution to the linear system given in Problem #2 by adding an appropriate vector from $\\hbox{ker}(A)$ so that $\\|x\\|_2=1$"
   ]
  },
  {
   "cell_type": "code",
   "execution_count": 4,
   "id": "c7bb8663",
   "metadata": {},
   "outputs": [
    {
     "name": "stdout",
     "output_type": "stream",
     "text": [
      "[-0.21132487 -0.57735027  0.78867513]\n",
      "1.0\n",
      "[1. 1.]\n"
     ]
    }
   ],
   "source": [
    "# norm^2 + (ker^2)x = 1\n",
    "# (ker^2)x = 1 - norm^2\n",
    "# x = (1 - norm) / (ker)\n",
    "kernel_norm = np.sqrt((1-np.linalg.norm(soln, 2) ** 2) / (np.linalg.norm(kernel_basis, 2) ** 2))\n",
    "new_soln = soln + (kernel_norm * kernel_basis)\n",
    "print(new_soln)\n",
    "print(np.linalg.norm(new_soln))\n",
    "print(A @ new_soln)"
   ]
  },
  {
   "cell_type": "markdown",
   "id": "4851f4ac",
   "metadata": {},
   "source": [
    "## Problem #4\n",
    "\n",
    "Determine the mean of the points $(1, 1, 0, 0)$, $(1, 1, 1, 0)$, $(1, 1, 1, 1)$, $(0, 1, 1, 1)$, $(0, 0, 1, 1)$, and $(1, 2, 3, 4)$"
   ]
  },
  {
   "cell_type": "code",
   "execution_count": 5,
   "id": "d9ef8ba5",
   "metadata": {},
   "outputs": [
    {
     "name": "stdout",
     "output_type": "stream",
     "text": [
      "mean:\n",
      " [0.66666667 1.         1.16666667 1.16666667]\n"
     ]
    }
   ],
   "source": [
    "pts = np.array([[1, 1, 0, 0], [1, 1, 1, 0], [1, 1, 1, 1], \n",
    "                [0, 1, 1, 1], [0, 0, 1, 1], [1, 2, 3, 4]]).T\n",
    "mean = pts.mean(axis = 1)\n",
    "print(\"mean:\\n\", mean)"
   ]
  },
  {
   "cell_type": "markdown",
   "id": "5395bee3",
   "metadata": {},
   "source": [
    "## Problem #5\n",
    "\n",
    "What is the principal direction of greatest variation for the six points given in Problem #4?"
   ]
  },
  {
   "cell_type": "code",
   "execution_count": 6,
   "id": "26af44f8",
   "metadata": {},
   "outputs": [
    {
     "name": "stdout",
     "output_type": "stream",
     "text": [
      "principal direction of greatest variation:\n",
      " [0.04659181 0.2481984  0.52977398 0.80967048]\n"
     ]
    }
   ],
   "source": [
    "pts = np.array([[1, 1, 0, 0], [1, 1, 1, 0], [1, 1, 1, 1], \n",
    "                [0, 1, 1, 1], [0, 0, 1, 1], [1, 2, 3, 4]]).T\n",
    "var = np.zeros(pts.shape)\n",
    "\n",
    "var = pts - pts.mean(axis = 1)[:,None]\n",
    "u, s, vt = np.linalg.svd(var)\n",
    "print(\"principal direction of greatest variation:\\n\", u[:,0])"
   ]
  },
  {
   "cell_type": "markdown",
   "id": "ba61a23d",
   "metadata": {},
   "source": [
    "## Problem #6\n",
    "\n",
    "What is the principal direction of least variation for the six points given in Problem #6?"
   ]
  },
  {
   "cell_type": "code",
   "execution_count": 7,
   "id": "8809fe24",
   "metadata": {},
   "outputs": [
    {
     "name": "stdout",
     "output_type": "stream",
     "text": [
      "principal direction of least variation:\n",
      " [ 0.57452173 -0.59511373 -0.39000443  0.40455034]\n"
     ]
    }
   ],
   "source": [
    "print(\"principal direction of least variation:\\n\", u[:,3])"
   ]
  },
  {
   "cell_type": "markdown",
   "id": "56c6feac",
   "metadata": {},
   "source": [
    "## Problem #7\n",
    "\n",
    "Nigel is in the process of designing a new sailboat, and he plans for it to be fast enough to be competitive in Pacific Ocean races against some of the fastest boats in the world.  In order to do this, he needs to construct a cubic polynomial function of speed which comes as close as possible (in the least squares sense) to interpolating the following data:\n",
    "\n",
    "| Speed | Performance |\n",
    "|-------|-------------|\n",
    "| 0 | 1 |\n",
    "| 1 | 1 |\n",
    "| 2 | 2 |\n",
    "| 3 | 2 |\n",
    "| 4 | 2 |\n",
    "| 5 | 1 |\n",
    "| 6 | 1 |\n",
    "\n",
    "Suppose that the cubic polynomial function he needs to identify is denoted by $p$, and he needs $p$ to be the function of speed that best matches the desired performance in the chart.  In order for his boat to qualify, the function $p$ he constructs must satisfy\n",
    "\n",
    "$$\\int_0^6 p(s)ds=10$$\n",
    "\n",
    "You have correctly identified Nigel's data fitting problem as a linearly constrained least squares problem, and you have kindly agreed to help him solve it.  Of course, you are additionally motivated by the fact that it is the very last homework problem you will ever need to solve in Applied Math 352.  Compute the coefficients of $p$ and plot it as well as the data points in the chart.\n",
    "\n",
    "The following facts may or may not help you:\n",
    "\n",
    "* The speed in the chart is given in knots\n",
    "* The performance column is all about how well the boat handles in light air, hence the concern about speeds less than or equal to six knots\n",
    "* The integral constraint given in the problem is a linear constraint\n",
    "* Nigel needs this function in order to get a proper rating certificate for his boat\n",
    "* Nigel's friend Joe has very much enjoyed being your instructor"
   ]
  },
  {
   "cell_type": "code",
   "execution_count": 13,
   "id": "3c51997b",
   "metadata": {},
   "outputs": [
    {
     "name": "stdout",
     "output_type": "stream",
     "text": [
      "coeffs: -1.6653345369377348e-16 x^3 +  -0.1282051282051259 x^2 +  0.7692307692307604 x +  0.8974358974358992\n"
     ]
    },
    {
     "data": {
      "image/png": "[encoded data removed]",
      "text/plain": [
       "<Figure size 432x288 with 1 Axes>"
      ]
     },
     "metadata": {
      "needs_background": "light"
     },
     "output_type": "display_data"
    }
   ],
   "source": [
    "plt.plot([0,1,2,3,4,5,6], [1,1,2,2,2,1,1], 'g', marker = 'o', markersize=10, linestyle=\"\")\n",
    "\n",
    "speed = np.array([0, 1, 2, 3, 4, 5, 6])\n",
    "performance = np.array([1, 1, 2, 2, 2, 1, 1])\n",
    "\n",
    "a = np.array([[1, 0, 0, 0], [1, 1, 1, 1], [1, 2, 4, 8], [1, 3, 9, 27], \n",
    "              [1, 4, 16, 64], [1, 5, 25, 125], [1, 6, 36, 216]])\n",
    "b = performance\n",
    "c = np.array([[6, 18, 72, 324]])\n",
    "d = np.array([10])\n",
    "\n",
    "u, s, vt = np.linalg.svd(c)\n",
    "x1 = (u.T @ d / s) * vt.T[0]\n",
    "\n",
    "vn = vt.T[:,1:]\n",
    "avn = a @ vn\n",
    "rhs = b - a @ x1\n",
    "\n",
    "q, r = qr(avn)\n",
    "qtb = q.T @ rhs\n",
    "soln = solve_triangular(r[:3], qtb[:3])\n",
    "soln = x1 + vn @ soln\n",
    "\n",
    "xp = np.linspace(0, 6, 201)\n",
    "plt.plot(speed, performance, marker = 'o', markersize=10, linestyle=\"\")\n",
    "yp = soln[0] + xp * (soln[1] + xp * (soln[2] + xp * soln[3]))\n",
    "plt.plot(xp, yp)\n",
    "print(\"coeffs:\", soln[3], \"x^3 + \", soln[2], \"x^2 + \", soln[1], \"x + \", soln[0])"
   ]
  },
  {
   "cell_type": "code",
   "execution_count": null,
   "id": "e0b226df",
   "metadata": {},
   "outputs": [],
   "source": []
  }
 ],
 "metadata": {
  "kernelspec": {
   "display_name": "Python 3 (ipykernel)",
   "language": "python",
   "name": "python3"
  },
  "language_info": {
   "codemirror_mode": {
    "name": "ipython",
    "version": 3
   },
   "file_extension": ".py",
   "mimetype": "text/x-python",
   "name": "python",
   "nbconvert_exporter": "python",
   "pygments_lexer": "ipython3",
   "version": "3.9.7"
  }
 },
 "nbformat": 4,
 "nbformat_minor": 5
}
