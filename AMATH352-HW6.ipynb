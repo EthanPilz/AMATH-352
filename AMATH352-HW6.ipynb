{
 "cells": [
  {
   "cell_type": "markdown",
   "id": "b1d2e3ff",
   "metadata": {},
   "source": [
    "# AMATH 352B\n",
    "\n",
    "## Homework Assignment #6 - due 5/20/2022\n",
    "\n",
    "This Jupyter Notebook consists of several cells.  Some of the cells are **Markdown** cells, and some of the cells are **Code** cells.\n",
    "\n",
    "Once you have honed your Notebook to the point where you're ready to turn it in, convert the Notebook to HTML and upload both the Notebook (the .ipynb file) and the HTML version of it to Canvas.  There are potentially issues in the conversion involving figures, graphics, and imported files to solve, so leave yourself enough time to get this done."
   ]
  },
  {
   "cell_type": "code",
   "execution_count": 1,
   "id": "dd4440d0",
   "metadata": {},
   "outputs": [],
   "source": [
    "from math import *\n",
    "import numpy as np\n",
    "from scipy.linalg import lu_factor, lu_solve\n",
    "from scipy.linalg import qr, solve_triangular\n",
    "import matplotlib as mpl\n",
    "import matplotlib.pyplot as plt"
   ]
  },
  {
   "cell_type": "markdown",
   "id": "567d070b",
   "metadata": {},
   "source": [
    "## Problem #1\n",
    "\n",
    "By hand, compute the eigenvalues of the matrix\n",
    "\n",
    "$$\\begin{pmatrix}0 & 1 & 0\\cr 1 & 0 & 1\\cr 0 & 1 & 0\\cr\\end{pmatrix}$$"
   ]
  },
  {
   "cell_type": "markdown",
   "id": "c5fd6b3a",
   "metadata": {},
   "source": [
    "$$\\lambda = 0, -\\sqrt{2}, \\sqrt{2}$$"
   ]
  },
  {
   "cell_type": "markdown",
   "id": "7a63fbd8",
   "metadata": {},
   "source": [
    "## Problem #2\n",
    "\n",
    "By hand, compute the eigenvectors corresponding to the eigenvalues you computed in Problem #1"
   ]
  },
  {
   "cell_type": "markdown",
   "id": "0dda41ec",
   "metadata": {},
   "source": [
    "$$\n",
    "\\text{Eigenvectors} =\n",
    "\\begin{pmatrix}-1\\cr0\\cr1\\cr\\end{pmatrix},\n",
    "\\begin{pmatrix}1\\cr-\\sqrt{2}\\cr1\\cr\\end{pmatrix},\n",
    "\\begin{pmatrix}1\\cr\\sqrt{2}\\cr1\\cr\\end{pmatrix}$$"
   ]
  },
  {
   "cell_type": "markdown",
   "id": "65b9c966",
   "metadata": {},
   "source": [
    "## Problem #3\n",
    "\n",
    "Compute the eigenvalues and eigenvectors of that matrix in Python by calling ``np.linalg.eig``.  Compare with your answers to the first two problems"
   ]
  },
  {
   "cell_type": "code",
   "execution_count": 2,
   "id": "c7bb8663",
   "metadata": {},
   "outputs": [
    {
     "name": "stdout",
     "output_type": "stream",
     "text": [
      "Eigenvalues: [-1.41421356e+00  9.24824453e-17  1.41421356e+00]\n",
      "Eigenvectors: [[ 5.00000000e-01  7.07106781e-01  5.00000000e-01]\n",
      " [-7.07106781e-01  1.52655666e-16  7.07106781e-01]\n",
      " [ 5.00000000e-01 -7.07106781e-01  5.00000000e-01]]\n"
     ]
    }
   ],
   "source": [
    "A = np.array([[0, 1, 0], [1, 0, 1], [0, 1, 0]])\n",
    "evals, evecs = np.linalg.eig(A)\n",
    "print(\"Eigenvalues:\", evals)\n",
    "print(\"Eigenvectors:\",evecs)"
   ]
  },
  {
   "cell_type": "markdown",
   "id": "4851f4ac",
   "metadata": {},
   "source": [
    "## Problem #4\n",
    "\n",
    "Where does Gerschgorin's Theorem predict that the eigenvalues of the following matrix will lie?\n",
    "\n",
    "$$\\begin{pmatrix}3 & 1 & 0 & 0\\cr\n",
    "1 & 7 & 1 & 0\\cr\n",
    "0 & 1 & 7 & 1\\cr\n",
    "0 & 0 & 1 & 12\\cr\\end{pmatrix}$$"
   ]
  },
  {
   "cell_type": "markdown",
   "id": "de645d98",
   "metadata": {},
   "source": [
    "$$\\text{Gerschgorins Theorem tells us that the eigenvalues will be between:}$$\n",
    "$$2\\leq\\lambda\\leq4$$\n",
    "$$5\\leq\\lambda\\leq9$$\n",
    "$$11\\leq\\lambda\\leq13$$"
   ]
  },
  {
   "cell_type": "markdown",
   "id": "5395bee3",
   "metadata": {},
   "source": [
    "## Problem #5\n",
    "\n",
    "Suppose $V$ is the matrix whose columns are given by the unit eigenvectors of the matrix\n",
    "\n",
    "$$\\begin{pmatrix}1 & 0 & 3 & 4\\cr\n",
    "0 & 5 & 2 & 1\\cr\n",
    "3 & 2 & 17 & 0\\cr\n",
    "4 & 1 & 0 & -4\\cr\\end{pmatrix}$$\n",
    "\n",
    "What can you say about the matrix $V^TV$?"
   ]
  },
  {
   "cell_type": "markdown",
   "id": "bb3b2176",
   "metadata": {},
   "source": [
    "$$V^TV\\text{ is equivalent to } V^2 \\text{because } V = V^T$$"
   ]
  },
  {
   "cell_type": "markdown",
   "id": "ba61a23d",
   "metadata": {},
   "source": [
    "## Problem #6\n",
    "\n",
    "If all eigenvalues $\\lambda$ of a matrix $A$ satisfy $|\\lambda|<1$, what can be said about the limit of $A^nx$ as $n\\to\\infty$, regardless of what $x$ is?"
   ]
  },
  {
   "cell_type": "markdown",
   "id": "e98da63e",
   "metadata": {},
   "source": [
    "$$A = x\\lambda x^{-1}$$\n",
    "$$A^2 = x\\lambda x^{-1} * x\\lambda x^{-1}$$\n",
    "$$A^2 = x\\lambda \\lambda x^{-1}$$\n",
    "\n",
    "$$\\text{The matrix to the power of n will be x multiplied by the matrix of lambdas to the power of n, multiplied by x inverse.}$$\n",
    "$$\\text{The matrix of eigenvalues being multiplied by itself n times with eigenvalues of }|\\lambda|<1\\text{ means they will continually get smaller and closer to zero}$$\n",
    "\n",
    "$$\\lim\\limits_{n\\to \\infty} (A^n x)$$ \n",
    "$$\\text{will converge to zero because values } <1 \\text{ multiplied over and over converge to zero}$$"
   ]
  },
  {
   "cell_type": "markdown",
   "id": "56c6feac",
   "metadata": {},
   "source": [
    "## Problem #7\n",
    "\n",
    "Nancy has been engaged in the effort to save Loggerhead Turtles from extinction for many years.\n",
    "She is currently tasked with preparing a report for the National Marine Fisheries Service, and she needs your help as an expert in linear algebra to help her analyze the data for her report.  Nancy is able to provide you with a **Leslie matrix** model for the Loggerhead Turtle population\n",
    "\n",
    "$$L=\\begin{pmatrix}0 & 0 & 0 & 0 & 127 & 4 & 80\\cr\n",
    "0.6747x & 0.737 & 0 & 0 & 0 & 0 & 0\\cr\n",
    "0 & 0.0486 & 0.6610 & 0 & 0 & 0 & 0\\cr\n",
    "0 & 0 & 0.0147 & 0.6907y & 0 & 0 & 0\\cr\n",
    "0 & 0 & 0 & 0.0518y & 0 & 0 & 0\\cr\n",
    "0 & 0 & 0 & 0 & 0.8091y & 0 & 0\\cr\n",
    "0 & 0 & 0 & 0 & 0 & 0.8091y & 0.8089y\\cr\\end{pmatrix}$$\n",
    "\n",
    "The variables $x$ and $y$ control three different strategies for stabilizing the population of Loggerhead Turtles.  Nancy is preparing a report on the effectiveness of these three strategies for the National Marine Fisheries Service\n",
    "\n",
    "* **Do nothing**.  Set $x=1$ and $y=1$.  Provide Nancy with the data she needs to show that this strategy leads to extinction of Loggerhead Turtles.\n",
    "* **Protect eggs and hatchlings**.  Set $0.6747x=1$ and $y=1$.  Provide Nancy with evidence that this strategy will prove ineffective and that extinction of Loggerhead Turtles will still occur even if all the eggs and hatchlings are protected.\n",
    "* **Equip fishing nets with turtle excluding devices**.  Set $x=1$ and $y=1.15$.  Demonstrate that this measure will prevent the extinction of Loggerhead Turtles.\n",
    "\n",
    "As usual, your instructor has lots of advice which may or may not be relevant to this problem:\n",
    "\n",
    "* The National Marine Fisheries Service was founded in 1871\n",
    "* If the vector $p_n$ represents the number of turtles alive in several age groups at year $n$, then $Lp_n$ represents the number of turtles alive in those same age groups the following year\n",
    "* Charles throws back all Loggerhead Turtles that he catches from the dock\n",
    "* Eigenvalues of magnitude less than one can help determine how quickly certain quantities decrease\n",
    "* Nigel occasionally spots Loggerhead Turtles when he is traveling at 6 knots or less\n",
    "* Nancy has been a dues paying member of Greenpeace for several years\n",
    "* Ocean currents affect the migration patterns of sea turtles\n",
    "* Cubic models of data can be constructed by computing the $QR$ factorization of a **Vandermonde** matrix\n"
   ]
  },
  {
   "cell_type": "code",
   "execution_count": 28,
   "id": "88cda7c9",
   "metadata": {},
   "outputs": [
    {
     "name": "stdout",
     "output_type": "stream",
     "text": [
      "Do nothing\n",
      "0.9450309806910039\n",
      "\n",
      "Protect eggs and hatchlings\n",
      "0.9649561636204429\n",
      "\n",
      "Equip fishing nets with turtle excluding devices\n",
      "1.0228726429196717\n"
     ]
    }
   ],
   "source": [
    "# Create leslie matrix with given X and Y\n",
    "def createLeslie(x, y):\n",
    "    return np.array([[0, 0, 0, 0, 127, 4, 80],\n",
    "                   [0.6747*x, 0.737, 0, 0, 0, 0, 0],\n",
    "                   [0, 0.0486, 0.6610, 0, 0, 0, 0],\n",
    "                   [0, 0, 0.0147, 0.6907*y, 0, 0, 0],\n",
    "                   [0, 0, 0, 0.0518*y, 0, 0, 0],\n",
    "                   [0, 0, 0, 0, 0.8091*y, 0, 0],\n",
    "                   [0, 0, 0, 0, 0, 0.8091*y, 0.8089*y]])\n",
    "\n",
    "# \"Do nothing\" test\n",
    "evs = np.linalg.eig(createLeslie(1, 1))\n",
    "print(\"Do nothing\")\n",
    "for ev in evs[0]:\n",
    "    final = (abs(ev))\n",
    "print(final)\n",
    "# \"Protect eggs and hatchlings\" test\n",
    "evs = np.linalg.eig(createLeslie(1/0.6747, 1))\n",
    "print(\"\\nProtect eggs and hatchlings\")\n",
    "for ev in evs[0]:\n",
    "    final = (abs(ev))\n",
    "print(final)\n",
    "# \"Equip fishing nets with turtle excluding devices\" test\n",
    "evs = np.linalg.eig(createLeslie(1, 1.15))\n",
    "print(\"\\nEquip fishing nets with turtle excluding devices\")\n",
    "\n",
    "for ev in evs[0]:\n",
    "    final = (abs(ev))\n",
    "print(final)"
   ]
  },
  {
   "cell_type": "markdown",
   "id": "778ab8ed",
   "metadata": {},
   "source": [
    "$\\text{The best option for the survival/growth of the turtle population is going to be to equip fishing nets with turtle excluding devices since}$\n",
    "$\\text{the survival coefficient for this treatment group will be 1.0228726429196717\n",
    "which actually grows the population.}$"
   ]
  }
 ],
 "metadata": {
  "kernelspec": {
   "display_name": "Python 3 (ipykernel)",
   "language": "python",
   "name": "python3"
  },
  "language_info": {
   "codemirror_mode": {
    "name": "ipython",
    "version": 3
   },
   "file_extension": ".py",
   "mimetype": "text/x-python",
   "name": "python",
   "nbconvert_exporter": "python",
   "pygments_lexer": "ipython3",
   "version": "3.9.7"
  }
 },
 "nbformat": 4,
 "nbformat_minor": 5
}
