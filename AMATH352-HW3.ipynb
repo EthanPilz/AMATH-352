{
 "cells": [
  {
   "cell_type": "markdown",
   "id": "b1d2e3ff",
   "metadata": {},
   "source": [
    "# AMATH 352B\n",
    "\n",
    "## Homework Assignment #3 - due 4/22/2022\n",
    "\n",
    "This Jupyter Notebook consists of several cells.  Some of the cells are **Markdown** cells, and some of the cells are **Code** cells.\n",
    "\n",
    "Once you have honed your Notebook to the point where you're ready to turn it in, convert the Notebook to HTML and upload both the Notebook (the .ipynb file) and the HTML version of it to Canvas.  There are potentially issues in the conversion involving figures, graphics, and imported files to solve, so leave yourself enough time to get this done."
   ]
  },
  {
   "cell_type": "code",
   "execution_count": 1,
   "id": "dd4440d0",
   "metadata": {},
   "outputs": [],
   "source": [
    "from math import *\n",
    "import numpy as np\n",
    "from scipy.linalg import lu_factor, lu_solve\n",
    "import matplotlib as mpl\n",
    "import matplotlib.pyplot as plt"
   ]
  },
  {
   "cell_type": "markdown",
   "id": "567d070b",
   "metadata": {},
   "source": [
    "Use Gaussian elimination to determine the LU factorization of the following matrices\n",
    "\n",
    "## Problem #1\n",
    "\n",
    "$$\\begin{pmatrix}1& 2& 4\\cr 2& 3& 4\\cr -1& 2& 4\\cr\\end{pmatrix}$$\n",
    "$$L=\\begin{pmatrix}1& 0& 0\\cr 2& 1& 0\\cr -1& -4& 1\\cr\\end{pmatrix} \\hspace{1cm} U=\\begin{pmatrix}1& 2& 4\\cr 0& -1& -4\\cr 0& 0& 8\\cr\\end{pmatrix}$$\n"
   ]
  },
  {
   "cell_type": "markdown",
   "id": "cb0ca72e",
   "metadata": {},
   "source": []
  },
  {
   "cell_type": "markdown",
   "id": "7a63fbd8",
   "metadata": {},
   "source": [
    "## Problem #2\n",
    "\n",
    "$$\\begin{pmatrix}4& 2& 1& 0\\cr 2& 4& 2& 1\\cr 1& 2& 4& 2\\cr 0& 1& 2& 4\\cr\\end{pmatrix}$$\n",
    "$$L=\\begin{pmatrix}1& 0& 0& 0\\cr \\frac{1}{2}& 1& 0& 0 \\cr \\frac{1}{4}& \\frac{1}{2}& 1& 0\\cr 0& \\frac{1}{3}& \\frac{1}{2}& 1\\cr\\end{pmatrix} \\hspace{1cm}U=\\begin{pmatrix}4& 2& 1& 0\\cr 0& 3& \\frac{3}{2}& 1 \\cr 0& 0& 3& \\frac{3}{2}\\cr 0& 0& 0& \\frac{35}{12}\\cr\\end{pmatrix}$$"
   ]
  },
  {
   "cell_type": "markdown",
   "id": "22c51fb9",
   "metadata": {},
   "source": []
  },
  {
   "cell_type": "markdown",
   "id": "4851f4ac",
   "metadata": {},
   "source": [
    "## Problem #3\n",
    "\n",
    "* What is the determinant of the following matrix?\n",
    "\n",
    "$$\\begin{pmatrix}4& 2& 1& 0\\cr 0& 3& 2& 1\\cr 0& 0& 2& 2\\cr 0& 0& 0& 1\\cr\\end{pmatrix}$$\n",
    "$$\\det=24$$"
   ]
  },
  {
   "cell_type": "markdown",
   "id": "3a4fd2f0",
   "metadata": {},
   "source": []
  },
  {
   "cell_type": "markdown",
   "id": "5395bee3",
   "metadata": {},
   "source": [
    "Using the $LU$ factorization you produced for Problem #2, solving the following linear systems\n",
    "\n",
    "## Problem #4\n",
    "\n",
    "$$\\begin{pmatrix}4& 2& 1& 0\\cr 2& 4& 2& 1\\cr 1& 2& 4& 2\\cr 0& 1& 2& 4\\cr\\end{pmatrix}\n",
    "\\begin{pmatrix}x_1\\cr x_2\\cr x_3\\cr x_4\\cr\\end{pmatrix}=\n",
    "\\begin{pmatrix}7\\cr 9\\cr 9\\cr 7\\cr\\end{pmatrix}$$\n",
    "\n",
    "$$\\begin{pmatrix}x_1\\cr x_2\\cr x_3\\cr x_4\\cr\\end{pmatrix}= \\begin{pmatrix}1\\cr 1\\cr 1\\cr 1\\cr\\end{pmatrix}$$"
   ]
  },
  {
   "cell_type": "markdown",
   "id": "bfd4c879",
   "metadata": {},
   "source": []
  },
  {
   "cell_type": "markdown",
   "id": "ba61a23d",
   "metadata": {},
   "source": [
    "## Problem #5\n",
    "\n",
    "$$\\begin{pmatrix}4& 2& 1& 0\\cr 2& 4& 2& 1\\cr 1& 2& 4& 2\\cr 0& 1& 2& 4\\cr\\end{pmatrix}\n",
    "\\begin{pmatrix}x_1\\cr x_2\\cr x_3\\cr x_4\\cr\\end{pmatrix}=\n",
    "\\begin{pmatrix}3\\cr -1\\cr 1\\cr -3\\cr\\end{pmatrix}$$\n",
    "\n",
    "$$\\begin{pmatrix}x_1\\cr x_2\\cr x_3\\cr x_4\\cr\\end{pmatrix}= \\begin{pmatrix}1\\cr -1\\cr 1\\cr -1\\cr\\end{pmatrix}$$"
   ]
  },
  {
   "cell_type": "markdown",
   "id": "5eaac131",
   "metadata": {},
   "source": []
  },
  {
   "cell_type": "markdown",
   "id": "b79a9fe1",
   "metadata": {},
   "source": [
    "## Problem #6\n",
    "\n",
    "$$\\begin{pmatrix}4& 2& 1& 0\\cr 2& 4& 2& 1\\cr 1& 2& 4& 2\\cr 0& 1& 2& 4\\cr\\end{pmatrix}\n",
    "\\begin{pmatrix}x_1\\cr x_2\\cr x_3\\cr x_4\\cr\\end{pmatrix}=\n",
    "\\begin{pmatrix}8\\cr 20\\cr 25\\cr 23\\cr\\end{pmatrix}$$\n",
    "\n",
    "$$\\begin{pmatrix}x_1\\cr x_2\\cr x_3\\cr x_4\\cr\\end{pmatrix}= \\begin{pmatrix}-\\frac{3}{35}\\cr \\frac{89}{35}\\cr \\frac{114}{35}\\cr \\frac{112}{35}\\cr\\end{pmatrix}$$"
   ]
  },
  {
   "cell_type": "markdown",
   "id": "be43a25c",
   "metadata": {},
   "source": []
  },
  {
   "cell_type": "markdown",
   "id": "56c6feac",
   "metadata": {},
   "source": [
    "## Problem #7\n",
    "\n",
    "Hannah has recently become deeply involved in ham radio.  She has been experimenting with **amplitude modulation** (AM), and she has discovered that she can model the signals she broadcasts by solving the following ordinary differential equation\n",
    "\n",
    "$$x''(t)+a(t)x'(t)+(2\\pi\\omega)^2x(t)=0$$\n",
    "\n",
    "Your job is to help Hannah by writing the Python software to model the signal she broadcasts.  Using the methodology we discussed in class for modeling damped harmonic oscillators, write Python code for modeling the AM signal that she broadcasts.\n",
    "\n",
    "Perform the following tasks:\n",
    "\n",
    "* (1) Write the Python code to solve this problem.\n",
    "* (2) Solve a sample problem for one second of broadcast time, using $x(0)=1$ and $x(1)=0$ as boundary conditions.\n",
    "* (3) Use the function $a(t):= 20t^3 - 10$ as the amplitude modulator.\n",
    "* (4) Assume Hannah broadcasts at $\\omega = 32$ Hertz\n",
    "* (5) Use matplotlib to plot that signal.\n",
    "\n",
    "Here are some interesting and potentially relevant facts\n",
    "\n",
    "* There are almost 280,000 ham radio operators in the United States\n",
    "* **Hertz** is the unit of measure which indicates cycles per second\n",
    "* The factor of $2\\pi$ in the coefficient of $x$ occurs because one cycle of a sine wave occurs every $2\\pi$ radians.\n",
    "* The method outlined in class which we are using to solve this problem is called a **finite difference scheme**\n",
    "* The matrix constructed is an example of a **tridiagonal** linear system\n",
    "* Nigel's boat has a maximum speed of 7 knots"
   ]
  },
  {
   "cell_type": "code",
   "execution_count": 14,
   "id": "170fe8d0",
   "metadata": {},
   "outputs": [
    {
     "data": {
      "text/plain": [
       "[<matplotlib.lines.Line2D at 0x7f9948f062b0>]"
      ]
     },
     "execution_count": 14,
     "metadata": {},
     "output_type": "execute_result"
    },
    {
     "data": {
      "image/png": "[encoded data removed]",
      "text/plain": [
       "<Figure size 432x288 with 1 Axes>"
      ]
     },
     "metadata": {
      "needs_background": "light"
     },
     "output_type": "display_data"
    }
   ],
   "source": [
    "# Amplitude \n",
    "n = 1000\n",
    "h = 1/n\n",
    "t = np.arange(0, 1, h)\n",
    "a = 20 * (t ** 3) - 10\n",
    "b = (2 * np.pi * 32) ** 2\n",
    "\n",
    "# Initial conditions\n",
    "x0 = 1\n",
    "xn = 0\n",
    "\n",
    "# Create matrix entries \n",
    "\n",
    "alpha = 1.0 / h ** 2 - a / (2.0 * h)\n",
    "beta = b - 2.0 / h ** 2\n",
    "gamma = 1.0 / h ** 2 + a / (2.0 * h)\n",
    "\n",
    "# Construct matrix and right hand side vector\n",
    "\n",
    "amat = np.zeros((n - 2, n - 2))\n",
    "rhs = np.zeros((n - 2,))\n",
    "for i in range(0, n - 2):\n",
    "    if i == 0:\n",
    "        rhs[i] = -alpha[i] * x0\n",
    "    else:\n",
    "        amat[i][i - 1] = alpha[i]\n",
    "    amat[i][i] = beta\n",
    "    if i == n - 3:\n",
    "        rhs[n - 3] = -gamma[i] * xn\n",
    "    else:\n",
    "        amat[i][i + 1] = gamma[i]\n",
    "        \n",
    "# Compute LU factors of the matrix\n",
    "\n",
    "lu, piv = lu_factor(amat)\n",
    "\n",
    "# Solve the linear system\n",
    "\n",
    "x = [x0] + list(lu_solve((lu, piv), rhs)) + [xn]\n",
    "\n",
    "# Plot the result\n",
    "\n",
    "t = np.linspace(0, 1, n)\n",
    "plt.plot(t, x)"
   ]
  },
  {
   "cell_type": "code",
   "execution_count": null,
   "id": "6184158d",
   "metadata": {},
   "outputs": [],
   "source": []
  }
 ],
 "metadata": {
  "kernelspec": {
   "display_name": "Python 3 (ipykernel)",
   "language": "python",
   "name": "python3"
  },
  "language_info": {
   "codemirror_mode": {
    "name": "ipython",
    "version": 3
   },
   "file_extension": ".py",
   "mimetype": "text/x-python",
   "name": "python",
   "nbconvert_exporter": "python",
   "pygments_lexer": "ipython3",
   "version": "3.9.7"
  }
 },
 "nbformat": 4,
 "nbformat_minor": 5
}
