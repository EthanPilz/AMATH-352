{
 "cells": [
  {
   "cell_type": "markdown",
   "id": "b1d2e3ff",
   "metadata": {},
   "source": [
    "# AMATH 352B\n",
    "\n",
    "## Homework Assignment #7 - due 5/27/2022\n",
    "\n",
    "This Jupyter Notebook consists of several cells.  Some of the cells are **Markdown** cells, and some of the cells are **Code** cells.\n",
    "\n",
    "Once you have honed your Notebook to the point where you're ready to turn it in, convert the Notebook to HTML and upload both the Notebook (the .ipynb file) and the HTML version of it to Canvas.  There are potentially issues in the conversion involving figures, graphics, and imported files to solve, so leave yourself enough time to get this done."
   ]
  },
  {
   "cell_type": "code",
   "execution_count": 1,
   "id": "dd4440d0",
   "metadata": {},
   "outputs": [],
   "source": [
    "from math import *\n",
    "import numpy as np\n",
    "from scipy.linalg import lu_factor, lu_solve\n",
    "from scipy.linalg import qr, solve_triangular\n",
    "import matplotlib as mpl\n",
    "import matplotlib.pyplot as plt"
   ]
  },
  {
   "cell_type": "markdown",
   "id": "567d070b",
   "metadata": {},
   "source": [
    "## Problem #1\n",
    "\n",
    "Compute the singular value decomposition of the following matrix by calling the numpy routine ``np.linalg.svd``:\n",
    "\n",
    "$$\\begin{pmatrix}1 & 2 & 3\\cr 4 & 5 & 6\\cr\\end{pmatrix}$$"
   ]
  },
  {
   "cell_type": "code",
   "execution_count": 2,
   "id": "ba1f67b6",
   "metadata": {},
   "outputs": [
    {
     "name": "stdout",
     "output_type": "stream",
     "text": [
      "U: [[-0.3863177   0.92236578]\n",
      " [-0.92236578 -0.3863177 ]]\n",
      "S: [9.508032   0.77286964]\n",
      "V: [[-0.42866713 -0.56630692 -0.7039467 ]\n",
      " [-0.80596391 -0.11238241  0.58119908]\n",
      " [ 0.40824829 -0.81649658  0.40824829]]\n"
     ]
    }
   ],
   "source": [
    "A = np.array(([1, 2, 3],\n",
    "              [4, 5, 6]))\n",
    "u, s, v = np.linalg.svd(A)\n",
    "print(\"U:\",u)\n",
    "print(\"S:\",s)\n",
    "print(\"V:\",v)"
   ]
  },
  {
   "cell_type": "markdown",
   "id": "7a63fbd8",
   "metadata": {},
   "source": [
    "## Problem #2\n",
    "\n",
    "Solve the following linear system of equations by computing the singular value decomposition of the matrix\n",
    "\n",
    "$$\\begin{pmatrix}1 & 0 & 2\\cr 2 & 0 & 1\\cr 1 & 1 & 1\\cr\\end{pmatrix}\n",
    "\\begin{pmatrix}x_0\\cr x_1\\cr x_2\\cr\\end{pmatrix}=\n",
    "\\begin{pmatrix}7\\cr 5\\cr 6\\cr\\end{pmatrix}$$"
   ]
  },
  {
   "cell_type": "code",
   "execution_count": 3,
   "id": "cab8c915",
   "metadata": {},
   "outputs": [
    {
     "name": "stdout",
     "output_type": "stream",
     "text": [
      "[[1.]\n",
      " [2.]\n",
      " [3.]]\n"
     ]
    }
   ],
   "source": [
    "A = np.array(([1, 0, 2],\n",
    "              [2, 0, 1],\n",
    "              [1, 1, 1]))\n",
    "b = np.array(([7], [5], [6]))\n",
    "u, s, v = np.linalg.svd(A)\n",
    "utb = u.T @ b\n",
    "utb[0] /= s[0]\n",
    "utb[1] /= s[1]\n",
    "utb[2] /= s[2]\n",
    "answer = v.T @ utb\n",
    "print(answer)"
   ]
  },
  {
   "cell_type": "markdown",
   "id": "65b9c966",
   "metadata": {},
   "source": [
    "## Problem #3\n",
    "\n",
    "* Determine the rank of the following matrix by computing its singular values\n",
    "\n",
    "$$\\begin{pmatrix}2 & 1 & 1 & 1\\cr\n",
    "1 & 2 & 1 & 1\\cr\n",
    "1 & 1 & 2 & 1\\cr\n",
    "2 & 0 & 2 & 1\\cr\\end{pmatrix}$$"
   ]
  },
  {
   "cell_type": "code",
   "execution_count": 4,
   "id": "c7bb8663",
   "metadata": {},
   "outputs": [
    {
     "name": "stdout",
     "output_type": "stream",
     "text": [
      "[5.10750724e+00 1.70685962e+00 1.00000000e+00 1.83865221e-16]\n",
      "Rank = 3\n"
     ]
    }
   ],
   "source": [
    "A = np.array(([2, 1, 1, 1],\n",
    "              [1, 2, 1, 1],\n",
    "              [1, 1, 2, 1],\n",
    "              [2, 0, 2, 1]))\n",
    "u, s, v = np.linalg.svd(A)\n",
    "print (s)\n",
    "rank = 0\n",
    "for i in range (s.size):\n",
    "    if (abs(s[i]) > sqrt(np.finfo(float).eps)):\n",
    "        rank += 1\n",
    "        \n",
    "print(\"Rank =\", rank)"
   ]
  },
  {
   "cell_type": "markdown",
   "id": "4851f4ac",
   "metadata": {},
   "source": [
    "## Problem #4\n",
    "\n",
    "Compute\n",
    "\n",
    "$$\\left\\|\\begin{pmatrix}3 & 1 & 0 & 0\\cr\n",
    "1 & 7 & 1 & 0\\cr\n",
    "0 & 1 & 7 & 1\\cr\n",
    "0 & 0 & 1 & 12\\cr\\end{pmatrix}\\right\\|_2$$"
   ]
  },
  {
   "cell_type": "code",
   "execution_count": 5,
   "id": "d9ef8ba5",
   "metadata": {},
   "outputs": [
    {
     "name": "stdout",
     "output_type": "stream",
     "text": [
      "2 norm = 12.199862348665095\n"
     ]
    }
   ],
   "source": [
    "A = np.array(([3, 1, 0, 0],\n",
    "              [1, 7, 1, 0],\n",
    "              [0, 1, 7, 1],\n",
    "              [0, 0, 1, 12]))\n",
    "u, s, v = np.linalg.svd(A)\n",
    "print (\"2 norm =\", s[0])"
   ]
  },
  {
   "cell_type": "markdown",
   "id": "5395bee3",
   "metadata": {},
   "source": [
    "## Problem #5\n",
    "\n",
    "For the matrix given in Problem #4, determine its condition number using the matrix 2-norm"
   ]
  },
  {
   "cell_type": "code",
   "execution_count": 6,
   "id": "26af44f8",
   "metadata": {},
   "outputs": [
    {
     "name": "stdout",
     "output_type": "stream",
     "text": [
      "Condition number = 4.435505344103019\n"
     ]
    }
   ],
   "source": [
    "answer = s[0] / s[s.size - 1]\n",
    "print (\"Condition number =\", answer)"
   ]
  },
  {
   "cell_type": "markdown",
   "id": "ba61a23d",
   "metadata": {},
   "source": [
    "## Problem #6\n",
    "\n",
    "What are the singular values of the $10 \\times 10$ tridiagonal matrix whose diagonal entries are $2$ on the diagonal and whose entries are $1$ on the sub- and sup-diagonals?"
   ]
  },
  {
   "cell_type": "code",
   "execution_count": 7,
   "id": "8809fe24",
   "metadata": {},
   "outputs": [
    {
     "name": "stdout",
     "output_type": "stream",
     "text": [
      "Singular values: [3.91898595 3.68250707 3.30972147 2.83083003 2.28462968 1.71537032\n",
      " 1.16916997 0.69027853 0.31749293 0.08101405]\n"
     ]
    }
   ],
   "source": [
    "A = np.array(([2, 1, 0, 0, 0, 0, 0, 0, 0, 0],\n",
    "              [1, 2, 1, 0, 0, 0, 0, 0, 0, 0],\n",
    "              [0, 1, 2, 1, 0, 0, 0, 0, 0, 0],\n",
    "              [0, 0, 1, 2, 1, 0, 0, 0, 0, 0],\n",
    "              [0, 0, 0, 1, 2, 1, 0, 0, 0, 0],\n",
    "              [0, 0, 0, 0, 1, 2, 1, 0, 0, 0],\n",
    "              [0, 0, 0, 0, 0, 1, 2, 1, 0, 0],\n",
    "              [0, 0, 0, 0, 0, 0, 1, 2, 1, 0],\n",
    "              [0, 0, 0, 0, 0, 0, 0, 1, 2, 1],\n",
    "              [0, 0, 0, 0, 0, 0, 0, 0, 1, 2]))\n",
    "\n",
    "u, s, v = np.linalg.svd(A)\n",
    "print(\"Singular values:\", s)"
   ]
  },
  {
   "cell_type": "markdown",
   "id": "56c6feac",
   "metadata": {},
   "source": [
    "## Problem #7\n",
    "\n",
    "Stella is a terrific amateur astronomer, and she has recently discovered a new asteroid.  After taking careful measurements, she determined the following positions for the asteroid over the course of 12 months:\n",
    "\n",
    "| $x$ | $y$ | $z$ |\n",
    "|-----|-----|-----|\n",
    "| 4.000 | 4.000 | 4.000 |\n",
    "| 2.964 | 3.964 | 3.464 |\n",
    "| 1.134 | 2.866 | 2.000 |\n",
    "| -1.000 | 1.000 | 0.000 |\n",
    "| -2.866 | -1.134 | -2.000 |\n",
    "| -3.964 | -2.964 | -3.464 |\n",
    "| -4.000 | -4.000 | -4.000 |\n",
    "| -2.964 | -3.964 | -3.464 |\n",
    "| -1.134 | -2.866 | -2.000 |\n",
    "| 1.000 | -1.000 | 0.000 |\n",
    "| 2.866 | 1.134 | 2.000 |\n",
    "| 3.964 | 2.964 | 3.464 |\n",
    "\n",
    "The 12 measurements represent nearly one full orbit of the asteroid about its center in the coordinate system in which Stella has taken the measurements.  She would like to compute both the eccentricity of the elliptical orbit that she has observed as well as the normal vector to the orbital plane in the coordinate system she has taken her measurements in.  Because of all your recent experience with computational linear algebra, she has asked for your help computing these two things.\n",
    "\n",
    "Here are some facts that may help you determine how best to help Stella:\n",
    "\n",
    "* Stella's measurements are in **astronomical units**\n",
    "* One **astronomical unit** is the average distance of the earth from the sun\n",
    "* A normal to a plane is a vector which is perpendicular to all vectors in the plane\n",
    "* Nigel is an expert in celestial navigation, but these days he usually relies on GPS\n",
    "* The eccentricity of an ellipse is the ratio of the semimajor axis to the semiminor axis\n",
    "* Your instructor often assigns problems related to the material covered in class during the previous week\n",
    "* On clear nights, Charles can sometimes spot the planets during his moonlight fishing trips\n",
    "* There are no currents to compensate for in space\n",
    "* Your instructor has rigged this problem so that no preprocessing or transformation of the data is required in order to solve it"
   ]
  },
  {
   "cell_type": "code",
   "execution_count": 8,
   "id": "a031da96",
   "metadata": {},
   "outputs": [
    {
     "name": "stdout",
     "output_type": "stream",
     "text": [
      "Eccentricity 4.898979485566357\n",
      "Normal Vector: [ 1.  1. -2.]\n"
     ]
    },
    {
     "data": {
      "image/png": "[encoded data removed]",
      "text/plain": [
       "<Figure size 432x288 with 1 Axes>"
      ]
     },
     "metadata": {
      "needs_background": "light"
     },
     "output_type": "display_data"
    }
   ],
   "source": [
    "xcoord = np.array([4.000, 2.964, 1.134, -1.000, -2.866, -3.964, -4.000, -2.964, -1.134, 1.000, 2.866, 3.964])\n",
    "ycoord = np.array([4.000, 3.964, 2.866, 1.000, -1.134, -2.964, -4.000, -3.964, -2.866, -1.000, 1.134, 2.964])\n",
    "zcoord = np.array([4.000, 3.464, 2.000, 0.000, -2.000, -3.464, -4.000, -3.464, -2.000, 0.000, 2.000, 3.464])\n",
    "\n",
    "# Find P-bar\n",
    "pbar = np.zeros(3)\n",
    "for pt in xcoord:\n",
    "    pbar[0] += pt\n",
    "for pt in ycoord:\n",
    "    pbar[1] += pt\n",
    "for pt in zcoord:\n",
    "    pbar[2] += pt\n",
    "    \n",
    "pbar /= len(xcoord.T)\n",
    "#print(\"pbar:\", pbar)\n",
    "\n",
    "# Construct the matrix of point[i] - pbar[i]\n",
    "A = np.zeros((xcoord.size, 3))\n",
    "for i in range(xcoord.size):\n",
    "    A[i,0] = xcoord[i] - pbar[0]\n",
    "    A[i,1] = ycoord[i] - pbar[1]\n",
    "    A[i,2] = zcoord[i] - pbar[2]\n",
    "\n",
    "A = A.T\n",
    "\n",
    "# SVD on matrix A\n",
    "u, s, vt = np.linalg.svd(A)\n",
    "\n",
    "SD = s / sqrt(len(xcoord))\n",
    "#print(\"SD:\", SD)\n",
    "\n",
    "# Compute standard deviations\n",
    "end0 = pbar + SD[0] * u.T[0]\n",
    "end1 = pbar + SD[1] * u.T[1]\n",
    "\n",
    "# Make plot, draw 1st standard deviation orbit\n",
    "ax = plt.axes(projection='3d')\n",
    "\n",
    "for nsigma in range(1, 3):\n",
    "    ellpts = np.array([pbar + nsigma * SD[0] * cos(th) * u.T[0] + nsigma * SD[1] * sin(th) * u.T[1]\n",
    "                       for th in np.linspace(0, 2 * pi, 101)])\n",
    "    ax.plot3D(ellpts.T[0,:], ellpts.T[1,:], ellpts.T[2,:], 'orange')\n",
    "\n",
    "# Data for three-dimensional scattered points\n",
    "#ax.scatter3D(pbar[0], pbar[1], pbar[2], color = 'black');\n",
    "ax.plot3D([pbar[0], end0[0]], [pbar[1], end0[1]], [pbar[2], end0[2]], 'green')\n",
    "ax.plot3D([pbar[0], end1[0]], [pbar[1], end1[1]], [pbar[2], end1[2]], 'red')\n",
    "ax.scatter3D(xcoord, ycoord, zcoord, color='black');\n",
    "\n",
    "# Eccentricity\n",
    "eccentricity = np.linalg.norm(np.array(end0 - pbar)) / np.linalg.norm(np.array(end1 - pbar))\n",
    "print(\"Eccentricity\", eccentricity)\n",
    "\n",
    "# Normal Vector\n",
    "Majorvector = np.array((end0[0] - pbar[0], end0[1] - pbar[1], end0[2] - pbar[2]))\n",
    "Minorvector = np.array((end1[0] - pbar[0], end1[1] - pbar[1], end1[2] - pbar[2]))\n",
    "\n",
    "#print (MajMinMatrix)\n",
    "Normalvector = np.cross(Majorvector, Minorvector)\n",
    "\n",
    "ax.plot3D([pbar[0], Normalvector[0]], [pbar[1], Normalvector[1]], [pbar[2], Normalvector[2]], color='magenta')\n",
    "Normalvector = Normalvector / Normalvector[0]\n",
    "print(\"Normal Vector:\", Normalvector)"
   ]
  },
  {
   "cell_type": "code",
   "execution_count": null,
   "id": "bf440e88",
   "metadata": {},
   "outputs": [],
   "source": []
  }
 ],
 "metadata": {
  "kernelspec": {
   "display_name": "Python 3 (ipykernel)",
   "language": "python",
   "name": "python3"
  },
  "language_info": {
   "codemirror_mode": {
    "name": "ipython",
    "version": 3
   },
   "file_extension": ".py",
   "mimetype": "text/x-python",
   "name": "python",
   "nbconvert_exporter": "python",
   "pygments_lexer": "ipython3",
   "version": "3.9.7"
  }
 },
 "nbformat": 4,
 "nbformat_minor": 5
}
