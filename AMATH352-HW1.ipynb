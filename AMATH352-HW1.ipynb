{
 "cells": [
  {
   "cell_type": "markdown",
   "id": "b1d2e3ff",
   "metadata": {},
   "source": [
    "# AMATH 352B\n",
    "\n",
    "## Homework Assignment #1 - due 4/8/2022\n",
    "\n",
    "This Jupyter Notebook consists of several cells.  Some of the cells are **Markdown** cells, and some of the cells are **Code** cells.  In the future, you may be asked to create your own Notebook from scratch.  For at least this week, though, all you need to do is make a copy of this Notebook and fill out the missing cells.\n",
    "\n",
    "Once you have honed your Notebook to the point where you're ready to turn it in, convert the Notebook to PDF and upload both the Notebook (the .ipynb file) and the PDF version of it to Canvas.  There are potentially issues in the conversion involving figures, graphics, and imported files to solve, so leave yourself enough time to get this done."
   ]
  },
  {
   "cell_type": "code",
   "execution_count": 29,
   "id": "dd4440d0",
   "metadata": {},
   "outputs": [],
   "source": [
    "from math import *\n",
    "import numpy as np"
   ]
  },
  {
   "cell_type": "markdown",
   "id": "567d070b",
   "metadata": {},
   "source": [
    "Perform the following operations and enter your answers into the cell that follows.  Note that the cell is a **Markdown** cell, so you won't be able to use any Python code to solve these problems.  You will, however, want to use **Markdown** to make your answers as pretty as possible.\n",
    "\n",
    "## Problem #1\n",
    "\n",
    "$$\\begin{pmatrix}1\\cr 7\\cr\\end{pmatrix} -\n",
    "  \\begin{pmatrix}-3\\cr 4\\cr\\end{pmatrix}$$"
   ]
  },
  {
   "cell_type": "markdown",
   "id": "cb0ca72e",
   "metadata": {},
   "source": [
    "$$\\begin{pmatrix}1\\cr 7\\cr\\end{pmatrix} -\n",
    "  \\begin{pmatrix}-3\\cr 4\\cr\\end{pmatrix} =\n",
    "  \\begin{pmatrix}4\\cr 3\\cr\\end{pmatrix}$$"
   ]
  },
  {
   "cell_type": "markdown",
   "id": "7a63fbd8",
   "metadata": {},
   "source": [
    "## Problem #2\n",
    "\n",
    "$$\\sqrt{2}\\begin{pmatrix}\\sqrt{2}\\cr \\sqrt{18}\\cr -\\sqrt{2}\\cr\\end{pmatrix}+\n",
    "3\\begin{pmatrix}-2\\cr 3\\cr 4\\cr\\end{pmatrix}$$"
   ]
  },
  {
   "cell_type": "markdown",
   "id": "22c51fb9",
   "metadata": {},
   "source": [
    "$$\\begin{pmatrix}-4\\cr 15\\cr 10\\cr \\end{pmatrix}$$"
   ]
  },
  {
   "cell_type": "markdown",
   "id": "5395bee3",
   "metadata": {},
   "source": [
    "## Problem #3\n",
    "\n",
    "Write Python code using numpy to verify the answers to the previous two problems.  Use the numpy \"array\" method to create the vectors and then add them"
   ]
  },
  {
   "cell_type": "code",
   "execution_count": 30,
   "id": "16461cac",
   "metadata": {},
   "outputs": [
    {
     "name": "stdout",
     "output_type": "stream",
     "text": [
      "[-4. 15. 10.]\n"
     ]
    }
   ],
   "source": [
    "one = np.array((np.sqrt(2), np.sqrt(18), -np.sqrt(2)))\n",
    "two = np.array((-2, 3, 4))\n",
    "answer = (np.sqrt(2) * one) + (3 * two)\n",
    "print(answer)"
   ]
  },
  {
   "cell_type": "markdown",
   "id": "b79a9fe1",
   "metadata": {},
   "source": [
    "What is the dimension of the span of the following sets of vectors?\n",
    "\n",
    "## Problem #4\n",
    "\n",
    "$$\\dim\\left\\{\n",
    "\\begin{pmatrix}1\\cr 0\\cr 0\\cr\\end{pmatrix},\n",
    "\\begin{pmatrix}0\\cr 0\\cr 1\\cr\\end{pmatrix}\\right\\}\n",
    "= 2$$"
   ]
  },
  {
   "cell_type": "markdown",
   "id": "376a1aea",
   "metadata": {},
   "source": []
  },
  {
   "cell_type": "markdown",
   "id": "b21a0bfa",
   "metadata": {
    "tags": []
   },
   "source": [
    "## Problem #5\n",
    "\n",
    "$$\\dim\\left\\{\n",
    "\\begin{pmatrix}1\\cr 1\\cr 0\\cr\\end{pmatrix},\n",
    "\\begin{pmatrix}0\\cr 1\\cr 1\\cr\\end{pmatrix},\n",
    "\\begin{pmatrix}2\\cr 4\\cr 2\\cr\\end{pmatrix}\\right\\}\n",
    "= 2$$"
   ]
  },
  {
   "cell_type": "markdown",
   "id": "b69b719a",
   "metadata": {},
   "source": []
  },
  {
   "cell_type": "markdown",
   "id": "9f66b530",
   "metadata": {},
   "source": [
    "## Problem #6\n",
    "\n",
    "$$\\dim\\left\\{\n",
    "\\begin{pmatrix}1\\cr \\pi\\cr\\end{pmatrix},\n",
    "\\begin{pmatrix}1\\cr 3.14159265398\\cr\\end{pmatrix}\\right\\}\n",
    "= 2$$"
   ]
  },
  {
   "cell_type": "markdown",
   "id": "e44ea4ec",
   "metadata": {},
   "source": []
  },
  {
   "cell_type": "markdown",
   "id": "56c6feac",
   "metadata": {},
   "source": [
    "## Problem #7\n",
    "\n",
    "Using Python code and the \"atan2\" function, solve the following problem:\n",
    "\n",
    "Nigel's boat has a maximum speed of 7 knots.  His destination is northeast of his current location.  There is a current flowing southeast at 3 knots.  If Nigel wants to get to his destination as quickly as possible, what should his heading be?  At what speed is he traveling towards his destination?\n",
    "\n",
    "Potentially interesting and useful facts:\n",
    "* A speed of one **knot** is one nautical mile per hour\n",
    "* One nautical mile is defined to be one minute (i.e. $1/60$ of one degree) of latitude\n",
    "* There are approximately $29.5$ days in a lunar month\n",
    "* The southeast current affecting Nigel's boat is caused by a spring tide at full moon\n",
    "* A boat's **heading** refers to the angle the line connecting bow to stern of the boat makes with respect to due north measured clockwise\n",
    "* A boat's **bearing** refers to the direction it is actually going after accounting for wind and current\n",
    "* Gasoline currently costs over \\$5 per gallon, and Nigel's boat consumes 2 gallons per hour\n",
    "* Vectors are a good way to represent velocities"
   ]
  },
  {
   "cell_type": "code",
   "execution_count": 31,
   "id": "b6708932",
   "metadata": {},
   "outputs": [
    {
     "name": "stdout",
     "output_type": "stream",
     "text": [
      "Theta 1.3286923324300237\n",
      "Speed: 8.764650128637491\n",
      "Theta deg 76.12846291963372\n",
      "Bearing: 13.87153708036628\n"
     ]
    }
   ],
   "source": [
    "# Nigel wants to bear NE so he should head mostly north, somewhat east.\n",
    "vNigel = np.array((np.cos(45) * 7, np.sin(45) * 7))\n",
    "vCurrent = np.array((np.cos(-45) * 3, np.sin(-45) * 3))\n",
    "\n",
    "resultingVec = np.array((vNigel[0] - vCurrent[0], vNigel[1] - vCurrent[1]))\n",
    "resultX = vNigel[0] - vCurrent[0]\n",
    "resultY = vNigel[1] - vCurrent[1]\n",
    "\n",
    "theta = atan2(resultY, resultX)\n",
    "print('Theta', theta)\n",
    "\n",
    "speed = (resultX / cos(theta))\n",
    "print('Speed:', speed)\n",
    "\n",
    "theta_deg = theta * (180/pi)\n",
    "print('Theta deg', theta_deg)\n",
    "\n",
    "heading = 90 - theta_deg\n",
    "print('Bearing:', heading)\n",
    "\n",
    "#Nigel's boat is going 8.76 knots/hour, and he should set the heading to be 13.87 degrees if he wants to\n",
    "#get to his destination as quickly as possible."
   ]
  },
  {
   "cell_type": "markdown",
   "id": "bc56fe94",
   "metadata": {},
   "source": [
    "Nigel's boat is going 8.76 knots/hour to his destination NE, and he should set the heading to be 13.87 degrees East of North if he wants to get to his destination as quickly as possible"
   ]
  },
  {
   "cell_type": "code",
   "execution_count": null,
   "id": "409d7289",
   "metadata": {},
   "outputs": [],
   "source": []
  }
 ],
 "metadata": {
  "kernelspec": {
   "display_name": "Python 3 (ipykernel)",
   "language": "python",
   "name": "python3"
  },
  "language_info": {
   "codemirror_mode": {
    "name": "ipython",
    "version": 3
   },
   "file_extension": ".py",
   "mimetype": "text/x-python",
   "name": "python",
   "nbconvert_exporter": "python",
   "pygments_lexer": "ipython3",
   "version": "3.9.7"
  }
 },
 "nbformat": 4,
 "nbformat_minor": 5
}
