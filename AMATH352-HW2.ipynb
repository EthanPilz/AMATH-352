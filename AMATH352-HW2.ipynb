{
 "cells": [
  {
   "cell_type": "markdown",
   "id": "b1d2e3ff",
   "metadata": {},
   "source": [
    "# AMATH 352B\n",
    "\n",
    "## Homework Assignment #2 - due 4/15/2022\n",
    "\n",
    "This Jupyter Notebook consists of several cells.  Some of the cells are **Markdown** cells, and some of the cells are **Code** cells.\n",
    "\n",
    "Once you have honed your Notebook to the point where you're ready to turn it in, convert the Notebook to HTML and upload both the Notebook (the .ipynb file) and the HTML version of it to Canvas.  There are potentially issues in the conversion involving figures, graphics, and imported files to solve, so leave yourself enough time to get this done."
   ]
  },
  {
   "cell_type": "code",
   "execution_count": 1,
   "id": "dd4440d0",
   "metadata": {},
   "outputs": [],
   "source": [
    "from math import *\n",
    "import numpy as np\n",
    "import matplotlib as mpl\n",
    "import matplotlib.pyplot as plt"
   ]
  },
  {
   "cell_type": "markdown",
   "id": "567d070b",
   "metadata": {},
   "source": [
    "Compute the condition number of the following functions\n",
    "\n",
    "## Problem #1\n",
    "\n",
    "$$f(x):=\\sin x$$\n",
    "$$\\hbox{cond}(f)=\\left|\\cot(x)*x\\right|$$"
   ]
  },
  {
   "cell_type": "markdown",
   "id": "cb0ca72e",
   "metadata": {},
   "source": []
  },
  {
   "cell_type": "markdown",
   "id": "7a63fbd8",
   "metadata": {},
   "source": [
    "## Problem #2\n",
    "\n",
    "$$f(x):=\\log_e x$$\n",
    "$$\\hbox{cond}(f)=\\left|\\frac{1}{\\ln(x)}\\right|$$"
   ]
  },
  {
   "cell_type": "markdown",
   "id": "22c51fb9",
   "metadata": {},
   "source": []
  },
  {
   "cell_type": "markdown",
   "id": "4851f4ac",
   "metadata": {},
   "source": [
    "## Problem #3\n",
    "\n",
    "$$f(x):= \\sqrt{\\tan x}$$\n",
    "$$\\hbox{cond}(f)=\\left|\\frac{x*\\sec ^2(x)}{2\\tan(x)}\\right|$$"
   ]
  },
  {
   "cell_type": "markdown",
   "id": "3a4fd2f0",
   "metadata": {},
   "source": []
  },
  {
   "cell_type": "markdown",
   "id": "5395bee3",
   "metadata": {},
   "source": [
    "## Problem #4\n",
    "\n",
    "Write a Python program which solves the following linear systems of equations\n",
    "\n",
    "$$\\begin{align}\n",
    "a_{11}x_1 + a_{12}x_2 + a_{13}x_3 &= b_1\\cr\n",
    "a_{21}x_1 + a_{22}x_2 + a_{23}x_3 &= b_2\\cr\n",
    "a_{31}x_1 + a_{32}x_2 + a_{33}x_3 &= b_3\\cr\n",
    "\\end{align}$$\n",
    "\n",
    "under the assumption that the vectors\n",
    "\n",
    "$$a_1 = \\begin{pmatrix}a_{11}\\cr a_{21}\\cr a_{31}\\cr\\end{pmatrix},\\qquad\n",
    "a_2 = \\begin{pmatrix}a_{12}\\cr a_{22}\\cr a_{32}\\cr\\end{pmatrix},\\qquad\n",
    "a_3 = \\begin{pmatrix}a_{13}\\cr a_{23}\\cr a_{33}\\cr\\end{pmatrix}$$\n",
    "\n",
    "form an orthonormal basis in 3-space"
   ]
  },
  {
   "cell_type": "code",
   "execution_count": 2,
   "id": "4d7d4d02",
   "metadata": {},
   "outputs": [],
   "source": [
    "def orthoSolve(a1, a2, a3, b):\n",
    "    A = np.array(((a1[0], a2[0], a3[0]), (a1[1], a2[1], a3[1]), (a1[2], a2[2], a3[2])))\n",
    "    return (np.matmul(A.T, b))"
   ]
  },
  {
   "cell_type": "markdown",
   "id": "ba61a23d",
   "metadata": {},
   "source": [
    "# Problem #5\n",
    "\n",
    "* Use the code you wrote in Problem #4 to solve the following problem\n",
    "\n",
    "$$\\begin{pmatrix}1\\cr 0\\cr 0\\cr\\end{pmatrix}x_1 +\n",
    "\\begin{pmatrix}0\\cr {1\\over\\sqrt{2}}\\cr -{1\\over\\sqrt{2}}\\cr\\end{pmatrix}x_2 +\n",
    "\\begin{pmatrix}0\\cr {1\\over\\sqrt{2}}\\cr {1\\over\\sqrt{2}}\\cr\\end{pmatrix}x_3 =\n",
    "\\begin{pmatrix}1\\cr 2\\cr 3\\cr\\end{pmatrix}$$"
   ]
  },
  {
   "cell_type": "code",
   "execution_count": 3,
   "id": "76291b1e",
   "metadata": {},
   "outputs": [
    {
     "name": "stdout",
     "output_type": "stream",
     "text": [
      "Answer [ 1.         -0.70710678  3.53553391]\n"
     ]
    }
   ],
   "source": [
    "a1 = np.array((1, 0, 0))\n",
    "a2 = np.array((0, 1/np.sqrt(2), -1/np.sqrt(2)))\n",
    "a3 = np.array((0, 1/np.sqrt(2), 1/np.sqrt(2)))\n",
    "b = np.array((1, 2, 3))\n",
    "\n",
    "print('Answer', orthoSolve(a1, a2, a3, b))"
   ]
  },
  {
   "cell_type": "markdown",
   "id": "b79a9fe1",
   "metadata": {},
   "source": [
    "## Problem #6\n",
    "\n",
    "* Use the code you wrote in Problem #4 to solve the following problem\n",
    "\n",
    "$$\\begin{pmatrix}1/3\\cr -2/3\\cr 2/3\\cr\\end{pmatrix}x_1 +\n",
    "\\begin{pmatrix}2/3\\cr 2/3\\cr 1/3\\cr\\end{pmatrix}x_2 +\n",
    "\\begin{pmatrix}-2/3\\cr 1/3\\cr 2/3\\end{pmatrix}x_3 =\n",
    "\\begin{pmatrix}2\\cr 3\\cr 4\\cr\\end{pmatrix}$$"
   ]
  },
  {
   "cell_type": "code",
   "execution_count": 4,
   "id": "1e30c476",
   "metadata": {},
   "outputs": [
    {
     "name": "stdout",
     "output_type": "stream",
     "text": [
      "Answer [1.33333333 4.66666667 2.33333333]\n"
     ]
    }
   ],
   "source": [
    "a1 = np.array((1/3, -2/3, 2/3))\n",
    "a2 = np.array((2/3, 2/3, 1/3))\n",
    "a3 = np.array((-2/3, 1/3, 2/3))\n",
    "b = np.array((2, 3, 4))\n",
    "\n",
    "print('Answer', orthoSolve(a1, a2, a3, b))"
   ]
  },
  {
   "cell_type": "markdown",
   "id": "56c6feac",
   "metadata": {},
   "source": [
    "## Problem #7\n",
    "\n",
    "Charles likes to go fishing.  One of his favorite places to fish is from a dock that extends from the shore 20 meters to the east and 10 meters to the north in a straight line.  Whenever Charles casts his line, he casts it in a direction that is 10 degrees east of north.  He is able to cast his line any distance from 0 meters up to 25 meters.  He also happily walks along the dock and casts his line from anywhere along the dock.  What is the area of the lake that Charles is able to reach with his fishing lure?\n",
    "\n",
    "Your fishing guide urges you to solve the problem by following his advice.  He offers these tips:\n",
    "\n",
    "* Create numpy vectors that model the dock and the fishing line\n",
    "* Use those vectors to create the vertices of the region of the lake that Charles can reach with his fishing lure\n",
    "* Draw that region with matplotlib\n",
    "* Using only the coordinates of the two numpy vectors, write a simple assignment statement in Python that calculates the requisite area\n",
    "\n",
    "Hint #1:  No trigonometry is required, except to create the elements of one of the vectors\n",
    "\n",
    "Hint #2:  There is no extraneous information in this week's problem\n",
    "\n",
    "Hint #3:  Be sure to follow hint #1."
   ]
  },
  {
   "cell_type": "code",
   "execution_count": 15,
   "id": "b6708932",
   "metadata": {},
   "outputs": [
    {
     "name": "stdout",
     "output_type": "stream",
     "text": [
      "448.99183208937166\n"
     ]
    },
    {
     "data": {
      "text/plain": [
       "[<matplotlib.lines.Line2D at 0x7fd5924dd880>]"
      ]
     },
     "execution_count": 15,
     "metadata": {},
     "output_type": "execute_result"
    },
    {
     "data": {
      "image/png": "[encoded data removed]",
      "text/plain": [
       "<Figure size 432x288 with 1 Axes>"
      ]
     },
     "metadata": {
      "needs_background": "light"
     },
     "output_type": "display_data"
    }
   ],
   "source": [
    "cast = np.array((25 * np.sin(10 * pi/180), 25 * np.cos(10 * pi/180)))\n",
    "base = np.array((20, 10))\n",
    "A = np.array(((cast[1], base[1]), (cast[0], base[0])))\n",
    "\n",
    "print(np.linalg.det(A))\n",
    "\n",
    "plt.plot([0, cast[0]], [0, cast[1]], 'b')\n",
    "plt.plot([0, base[0]], [0, base[1]], 'r')\n",
    "plt.plot([cast[0], cast[1]], [cast[0] + base[0], cast[1] + base[1]], 'r')\n",
    "plt.plot([base[0], cast[1]], [base[1], cast[1] + base[1]], 'b')"
   ]
  },
  {
   "cell_type": "markdown",
   "id": "2025e729",
   "metadata": {},
   "source": [
    "Charles' range of the fishing pole has an area of 448.99183208937166 m^2"
   ]
  }
 ],
 "metadata": {
  "kernelspec": {
   "display_name": "Python 3 (ipykernel)",
   "language": "python",
   "name": "python3"
  },
  "language_info": {
   "codemirror_mode": {
    "name": "ipython",
    "version": 3
   },
   "file_extension": ".py",
   "mimetype": "text/x-python",
   "name": "python",
   "nbconvert_exporter": "python",
   "pygments_lexer": "ipython3",
   "version": "3.9.7"
  }
 },
 "nbformat": 4,
 "nbformat_minor": 5
}
