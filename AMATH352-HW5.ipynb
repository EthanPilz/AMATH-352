{
 "cells": [
  {
   "cell_type": "markdown",
   "id": "b1d2e3ff",
   "metadata": {},
   "source": [
    "# AMATH 352B\n",
    "\n",
    "## Homework Assignment #5 - due 5/13/2022\n",
    "\n",
    "This Jupyter Notebook consists of several cells.  Some of the cells are **Markdown** cells, and some of the cells are **Code** cells.\n",
    "\n",
    "Once you have honed your Notebook to the point where you're ready to turn it in, convert the Notebook to HTML and upload both the Notebook (the .ipynb file) and the HTML version of it to Canvas.  There are potentially issues in the conversion involving figures, graphics, and imported files to solve, so leave yourself enough time to get this done."
   ]
  },
  {
   "cell_type": "code",
   "execution_count": 2,
   "id": "dd4440d0",
   "metadata": {},
   "outputs": [],
   "source": [
    "from math import *\n",
    "import numpy as np\n",
    "from scipy.linalg import lu_factor, lu_solve\n",
    "from scipy.linalg import qr, solve_triangular\n",
    "import matplotlib as mpl\n",
    "import matplotlib.pyplot as plt"
   ]
  },
  {
   "cell_type": "markdown",
   "id": "567d070b",
   "metadata": {},
   "source": [
    "## Problem #1\n",
    "\n",
    "What is the Householder reflection that maps the vector $(1,1,1)^T$ to the vector $-(\\sqrt{3},0,0)^T$?  Use Python code to compute the answer if you prefer."
   ]
  },
  {
   "cell_type": "markdown",
   "id": "e90cf843",
   "metadata": {},
   "source": []
  },
  {
   "cell_type": "code",
   "execution_count": 14,
   "id": "97d3973f",
   "metadata": {},
   "outputs": [
    {
     "name": "stdout",
     "output_type": "stream",
     "text": [
      "[[-0.57735027 -0.57735027 -0.57735027]\n",
      " [-0.57735027  0.78867513 -0.21132487]\n",
      " [-0.57735027 -0.21132487  0.78867513]]\n"
     ]
    }
   ],
   "source": [
    "x = np.array([1, 1, 1])\n",
    "v = x - np.array([-sqrt(3), 0, 0])\n",
    "v2sq = v @ v\n",
    "q = np.identity(3) - 2 * np.outer(v, v) / v2sq\n",
    "print(q)"
   ]
  },
  {
   "cell_type": "markdown",
   "id": "7a63fbd8",
   "metadata": {},
   "source": [
    "## Problem #2\n",
    "\n",
    "Write Python code to use the bisection method to determine the value of $\\ln 2$.  Do this by solving the equation $e^x=2$"
   ]
  },
  {
   "cell_type": "code",
   "execution_count": 4,
   "id": "d71c27dc",
   "metadata": {},
   "outputs": [
    {
     "name": "stdout",
     "output_type": "stream",
     "text": [
      "ln(2) = 0.6931471805599456\n"
     ]
    }
   ],
   "source": [
    "def f(x):\n",
    "    return np.e**x\n",
    "\n",
    "#inital conditions\n",
    "x0=0\n",
    "f0=f(x0)\n",
    "x1 = 2\n",
    "f1 = f(x1)\n",
    "while abs(x0 - x1) > np.finfo(float).eps:\n",
    "    xnew = 0.5 * (x0 + x1)\n",
    "    fnew = f(xnew)\n",
    "    if fnew <= 2:\n",
    "        x0 = xnew\n",
    "        f0 = fnew\n",
    "    else:\n",
    "        x1 = xnew\n",
    "        f1 = fnew\n",
    "print(\"ln(2) =\",xnew)"
   ]
  },
  {
   "cell_type": "markdown",
   "id": "a95f91d6",
   "metadata": {},
   "source": [
    "## Problem #3\n",
    "\n",
    "Write Python code to use Newton's method to solve Problem #2"
   ]
  },
  {
   "cell_type": "code",
   "execution_count": 5,
   "id": "0c292f59",
   "metadata": {},
   "outputs": [
    {
     "name": "stdout",
     "output_type": "stream",
     "text": [
      "ln(2) = 0.6931471805599454\n"
     ]
    }
   ],
   "source": [
    "def f(x):\n",
    "    return np.e**x - 2\n",
    "\n",
    "def fprime(x):\n",
    "    return np.e**x\n",
    "\n",
    "xguess = 0\n",
    "done = False\n",
    "while True:\n",
    "    deltax = -f(xguess) / fprime(xguess)\n",
    "    xnew = xguess + deltax\n",
    "    if done:\n",
    "        break\n",
    "    if abs(deltax) < sqrt(np.finfo(float).eps):\n",
    "        done = True\n",
    "    xguess = xnew\n",
    "print(\"ln(2) =\", xnew)\n",
    "xnew = 0"
   ]
  },
  {
   "cell_type": "markdown",
   "id": "4851f4ac",
   "metadata": {},
   "source": [
    "## Problem #4\n",
    "\n",
    "By hand, determine the $QR$ factorization of the matrix\n",
    "\n",
    "$$\\begin{pmatrix}2 & 1 & 3\\cr 0 & 4 & 5\\cr 0 & 0 & 6\\cr 0 & 0 & 0\\cr\\end{pmatrix}$$\n",
    "$$Q=\\begin{pmatrix}1 & 0 & 0\\cr 0& 1& 0\\cr 0& 0& 1\\cr 0 & 0 & 0\\cr\\end{pmatrix}\n",
    "  R=\\begin{pmatrix}2 & 1 & 3\\cr 0 & 4 & 5\\cr 0 & 0 & 6\\cr\\end{pmatrix}$$"
   ]
  },
  {
   "cell_type": "markdown",
   "id": "3a4fd2f0",
   "metadata": {},
   "source": []
  },
  {
   "cell_type": "markdown",
   "id": "5395bee3",
   "metadata": {},
   "source": [
    "## Problem #5\n",
    "\n",
    "By hand, determine the eigenvalues of the matrix\n",
    "\n",
    "$$A =\\begin{pmatrix}1 & 2 & 3\\cr 0 & 4 & 5\\cr 0 & 0 & 6\\cr\\end{pmatrix}$$\n",
    "$$A-\\lambda I=\\begin{pmatrix}1 - \\lambda & 2 & 3\\cr 0 & 4 - \\lambda & 5\\cr 0 & 0 & 6 - \\lambda\\cr\\end{pmatrix}$$\n",
    "$$(1-\\lambda)(4-\\lambda)(6-\\lambda)=0$$\n",
    "$$\\lambda=1,4,6$$"
   ]
  },
  {
   "cell_type": "markdown",
   "id": "4009e24e",
   "metadata": {},
   "source": []
  },
  {
   "cell_type": "markdown",
   "id": "ba61a23d",
   "metadata": {},
   "source": [
    "## Problem #6\n",
    "\n",
    "Determine the three eigenvectors corresponding to the three eigenvalues determined in Problem #5"
   ]
  },
  {
   "cell_type": "markdown",
   "id": "21dc0873",
   "metadata": {},
   "source": [
    "$$\n",
    "\\text{Eigenvectors} =\n",
    "\\begin{pmatrix}1\\cr0\\cr0\\cr\\end{pmatrix},\n",
    "\\begin{pmatrix}2\\cr3\\cr0\\cr\\end{pmatrix},\n",
    "\\begin{pmatrix}16\\cr25\\cr10\\cr\\end{pmatrix}$$"
   ]
  },
  {
   "cell_type": "markdown",
   "id": "56c6feac",
   "metadata": {},
   "source": [
    "## Problem #7\n",
    "\n",
    "As an attorney, Mike has been using more paper than he should, and, being very conscientious about the impact of the world's over-reliance on paper, he has started to examine trends in paper production.  In particular, he has observed that the production of graphical paper (i.e. paper used for writing, drawing, and printing) has been steadily declining for many years.  Here is that data for the years 2010-2020:\n",
    "\n",
    "| Year | Graphic paper produced (in 1000 metric tons) |\n",
    "| ---- | -------- |\n",
    "| 2010 | 143335 |\n",
    "| 2011 | 141079 |\n",
    "| 2012 | 136607 |\n",
    "| 2013 | 132865 |\n",
    "| 2014 | 129394 |\n",
    "| 2015 | 125637 |\n",
    "| 2016 | 122645 |\n",
    "| 2017 | 121102 |\n",
    "| 2018 | 116426 |\n",
    "| 2019 | 110234 |\n",
    "| 2020 | 97208 |\n",
    "\n",
    "Mike would like to know in which year worldwide production of graphic paper can be expected to fall to 20 million metric tons.  You have offered to help him make this estimate because of your expertise in computational linear algebra and numerical computing.  The following information may help you figure out how to help him:\n",
    "\n",
    "* The first true paper-making process was invented in China nearly 2000 years ago\n",
    "* Marcy records UW enrollment on a paper document each quarter\n",
    "> Your instructor thinks building a cubic model would be appropriate for this data\n",
    "* Paper has gotten more expensive even as its use has decreased\n",
    "* Models built from data can be used as input functions for subsequent calculations\n",
    "* Equations involving continuous rates of change are called **differential equations**\n",
    "* Hannah is thinking of changing her broadcast frequency to 100 kHz\n",
    "* Eigenvalues of magnitude less than one can help determine how quickly certain quantities decrease\n",
    "* Nigel no longer relies on paper charts for navigation"
   ]
  },
  {
   "cell_type": "code",
   "execution_count": 6,
   "id": "f820e6a9",
   "metadata": {},
   "outputs": [
    {
     "name": "stdout",
     "output_type": "stream",
     "text": [
      "[2024.41347581]\n",
      "[2024.39890801]\n",
      "[2024.39888939]\n",
      "[2024.39888939]\n",
      "[2024.39888939]\n",
      "P(20) = [2024.39888939]\n"
     ]
    },
    {
     "data": {
      "text/plain": [
       "<matplotlib.lines.Line2D at 0x7f93f9ba0580>"
      ]
     },
     "execution_count": 6,
     "metadata": {},
     "output_type": "execute_result"
    },
    {
     "data": {
      "image/png": "[encoded data removed]",
      "text/plain": [
       "<Figure size 432x288 with 1 Axes>"
      ]
     },
     "metadata": {
      "needs_background": "light"
     },
     "output_type": "display_data"
    }
   ],
   "source": [
    "P = np.array([[143335], [141079], [136607], [132865], [129394], [125637], [122645], [121102], [116426], [110234], [97208]])\n",
    "Y = np.array([[2010], [2011], [2012], [2013], [2014], [2015], [2016], [2017], [2018], [2019], [2020]])\n",
    "\n",
    "Plength = P.size\n",
    "tvec = np.array(Y)\n",
    "vmat = np.zeros((Plength, 4))\n",
    "for i in range(0, Plength):\n",
    "    vmat[i, 0] = 1\n",
    "    vmat[i, 1] = Y[i]\n",
    "    vmat[i, 2] = Y[i] **2\n",
    "    vmat[i, 3] = Y[i] **3\n",
    "    \n",
    "q, r = qr(vmat, overwrite_a=False, lwork=None, mode='economic', pivoting=False, check_finite=True)\n",
    "qtb = q.T @ P\n",
    "avec = solve_triangular(r[:4], qtb[:4])\n",
    "\n",
    "xvec = np.linspace(2010, 2025, 100)\n",
    "yvec = avec[0] + xvec * (avec[1] + xvec * (avec[2] + xvec * avec[3]))\n",
    "plt.plot(Y, P, 'g', marker = 'o', markersize=5, linestyle=\"\")\n",
    "plt.plot(xvec, yvec, 'b')\n",
    "\n",
    "def f(x):\n",
    "    return (avec[3]*(x**3) + avec[2]*(x**2) + avec[1]*x + avec[0]) - 20000\n",
    "def fprime(x):\n",
    "    return (3*avec[3]*(x**2) + 2*avec[2]*x + avec[1])\n",
    "\n",
    "xguess = 2024\n",
    "done = False\n",
    "while True:\n",
    "    deltax = -f(xguess) / fprime(xguess)\n",
    "    xnew = xguess + deltax\n",
    "    print(xnew)\n",
    "    if done:\n",
    "        break\n",
    "    if abs(deltax) < sqrt(np.finfo(float).eps):\n",
    "        done = True\n",
    "    xguess = xnew\n",
    "    \n",
    "print(\"P(20) =\", xnew)\n",
    "plt.axhline(y=20000,linestyle='--')\n",
    "plt.axvline(xnew, color = 'g',linestyle='--')"
   ]
  },
  {
   "cell_type": "code",
   "execution_count": null,
   "id": "8f6b5bd1",
   "metadata": {},
   "outputs": [],
   "source": []
  }
 ],
 "metadata": {
  "kernelspec": {
   "display_name": "Python 3 (ipykernel)",
   "language": "python",
   "name": "python3"
  },
  "language_info": {
   "codemirror_mode": {
    "name": "ipython",
    "version": 3
   },
   "file_extension": ".py",
   "mimetype": "text/x-python",
   "name": "python",
   "nbconvert_exporter": "python",
   "pygments_lexer": "ipython3",
   "version": "3.9.7"
  }
 },
 "nbformat": 4,
 "nbformat_minor": 5
}
