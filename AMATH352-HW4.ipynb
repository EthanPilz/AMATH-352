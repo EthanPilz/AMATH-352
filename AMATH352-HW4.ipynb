{
 "cells": [
  {
   "cell_type": "markdown",
   "id": "b1d2e3ff",
   "metadata": {},
   "source": [
    "# AMATH 352B\n",
    "\n",
    "## Homework Assignment #4 - due 5/6/2022\n",
    "\n",
    "This Jupyter Notebook consists of several cells.  Some of the cells are **Markdown** cells, and some of the cells are **Code** cells.\n",
    "\n",
    "Once you have honed your Notebook to the point where you're ready to turn it in, convert the Notebook to HTML and upload both the Notebook (the .ipynb file) and the HTML version of it to Canvas.  There are potentially issues in the conversion involving figures, graphics, and imported files to solve, so leave yourself enough time to get this done."
   ]
  },
  {
   "cell_type": "code",
   "execution_count": 29,
   "id": "dd4440d0",
   "metadata": {},
   "outputs": [],
   "source": [
    "from math import *\n",
    "import numpy as np\n",
    "from scipy.linalg import lu_factor, lu_solve\n",
    "from scipy.linalg import qr, solve_triangular\n",
    "import matplotlib as mpl\n",
    "import matplotlib.pyplot as plt"
   ]
  },
  {
   "cell_type": "markdown",
   "id": "567d070b",
   "metadata": {},
   "source": [
    "## Problem #1\n",
    "\n",
    "Consider the points in the plane $(0,1)$, $(1,1)$, $(2,0)$, $(3,0)$, and $(4,1)$.  Write Python code to plot those points."
   ]
  },
  {
   "cell_type": "code",
   "execution_count": 30,
   "id": "5a9eab0d",
   "metadata": {},
   "outputs": [
    {
     "data": {
      "text/plain": [
       "[<matplotlib.lines.Line2D at 0x7fa0e1ac7730>]"
      ]
     },
     "execution_count": 30,
     "metadata": {},
     "output_type": "execute_result"
    },
    {
     "data": {
      "image/png": "[encoded data removed]",
      "text/plain": [
       "<Figure size 432x288 with 1 Axes>"
      ]
     },
     "metadata": {
      "needs_background": "light"
     },
     "output_type": "display_data"
    }
   ],
   "source": [
    "plt.plot([0, 1, 2, 3, 4],\n",
    "         [1, 1, 0, 0, 1],\n",
    "         'b', marker = 'o', markersize=10, linestyle=\"\")"
   ]
  },
  {
   "cell_type": "markdown",
   "id": "7a63fbd8",
   "metadata": {},
   "source": [
    "## Problem #2\n",
    "\n",
    "We want to model the five points from problem #1 as a quadratic polynomial of the form\n",
    "\n",
    "$$p(x)=c_0+c_1x+c_2x^2$$\n",
    "\n",
    "Write down an overdetermined linear system of the form $Ax=b$ so that each point $(x_i,y_i)$ is represented by an equation of the form $p(x_i)=y_i$"
   ]
  },
  {
   "cell_type": "markdown",
   "id": "22c51fb9",
   "metadata": {},
   "source": [
    "$$\n",
    "\\begin{pmatrix}1& 1& 1& 1& 1\\cr 0& 1& 2& 3& 4\\cr 0& 1& 4& 9& 16\\cr\\end{pmatrix}\n",
    "\\begin{pmatrix}1& 0& 0\\cr 1& 1& 1\\cr 1& 2& 4\\cr 1& 4& 16\\cr\\end{pmatrix}\n",
    "\\begin{pmatrix}c_0\\cr c_1\\cr c_2\\cr\\end{pmatrix}=\n",
    "\\begin{pmatrix}1& 1& 1& 1& 1\\cr 0& 1& 2& 3& 4\\cr 0& 1& 4& 9& 16\\cr\\end{pmatrix}\n",
    "\\begin{pmatrix}1\\cr 1\\cr 0\\cr 0\\cr 1 \\cr\\end{pmatrix}\n",
    "$$\n",
    "$$\n",
    "\\begin{pmatrix}5& 10& 30\\cr 10& 30& 100\\cr 30& 100& 354\\cr\\end{pmatrix}\n",
    "\\begin{pmatrix}c_0\\cr c_1\\cr c_2\\cr\\end{pmatrix}=\n",
    "\\begin{pmatrix}3\\cr 5\\cr 17\\cr\\end{pmatrix}\n",
    "$$\n"
   ]
  },
  {
   "cell_type": "markdown",
   "id": "4851f4ac",
   "metadata": {},
   "source": [
    "## Problem #3\n",
    "\n",
    "For the overdetermined linear system $Ax=b$ from problem #2, write down the normal equations"
   ]
  },
  {
   "cell_type": "markdown",
   "id": "3a4fd2f0",
   "metadata": {},
   "source": [
    "\n",
    "$$5c_0+10c_1+30c_2 = 3$$\n",
    "$$10c_0+30c_1+100c_2 = 5$$\n",
    "$$30c_0+100c_1+354c_2 = 17$$"
   ]
  },
  {
   "cell_type": "markdown",
   "id": "5395bee3",
   "metadata": {},
   "source": [
    "## Problem #4\n",
    "\n",
    "Write Python code to solve the normal equations derived in problem #3"
   ]
  },
  {
   "cell_type": "code",
   "execution_count": 31,
   "id": "54cba11c",
   "metadata": {},
   "outputs": [
    {
     "name": "stdout",
     "output_type": "stream",
     "text": [
      "Answer: [ 1.22857143 -0.95714286  0.21428571]\n",
      "LU Residual 0.4571428571428571\n"
     ]
    }
   ],
   "source": [
    "A = np.array([[1, 0, 0],\n",
    "              [1, 1, 1],\n",
    "              [1, 2, 4],\n",
    "              [1, 3, 9],\n",
    "              [1, 4, 16]])\n",
    "b = np.array([1, 1, 0, 0, 1])\n",
    "\n",
    "Asquare = A.T @ A\n",
    "Bsquare = A.T @ b\n",
    "\n",
    "lu, piv = lu_factor(Asquare)\n",
    "xLU = lu_solve((lu, piv), Bsquare)\n",
    "print(\"Answer:\", luanswer)\n",
    "print(\"LU Residual\", (np.linalg.norm((A @ xLU) - b)) ** 2)"
   ]
  },
  {
   "cell_type": "markdown",
   "id": "ba61a23d",
   "metadata": {},
   "source": [
    "## Problem #5\n",
    "\n",
    "Write Python code to determine the least squares solution to the overdetermined linear system from problem #2 using the $QR$ factorization.  Verify that the solution is the same as problem #4"
   ]
  },
  {
   "cell_type": "code",
   "execution_count": 32,
   "id": "d15c2ec1",
   "metadata": {},
   "outputs": [
    {
     "name": "stdout",
     "output_type": "stream",
     "text": [
      "Answer: [ 1.22857143 -0.95714286  0.21428571]\n",
      "QR Residual 0.45714285714285785\n"
     ]
    }
   ],
   "source": [
    "A = np.array([[1, 0, 0],\n",
    "              [1, 1, 1],\n",
    "              [1, 2, 4],\n",
    "              [1, 3, 9],\n",
    "              [1, 4, 16]])\n",
    "b = np.array([1, 1, 0, 0, 1])\n",
    "\n",
    "q, r = qr(A, overwrite_a=False, lwork=None, mode='full', pivoting=False, check_finite=True)\n",
    "qtb = q.T @ b\n",
    "x = solve_triangular(r[:3], qtb[:3])\n",
    "\n",
    "print(\"Answer:\", x)\n",
    "print(\"QR Residual\", (np.linalg.norm((r @ x) - qtb)) ** 2)"
   ]
  },
  {
   "cell_type": "markdown",
   "id": "b79a9fe1",
   "metadata": {},
   "source": [
    "## Problem #6\n",
    "\n",
    "Write Python code to plot the data points (just as in problem #1) and also the quadratic polynomial that is the least squares fit to those points.  Demonstrate that the sum of squares of the residual from solving problem #4 is the same as the sum of squares of the residuals in $Q^Tb$ from problem #5"
   ]
  },
  {
   "cell_type": "code",
   "execution_count": 33,
   "id": "2b91bc63",
   "metadata": {},
   "outputs": [
    {
     "name": "stdout",
     "output_type": "stream",
     "text": [
      "LU Residual 0.4571428571428571\n",
      "QR Residual 0.45714285714285785\n"
     ]
    },
    {
     "data": {
      "image/png": "[encoded data removed]",
      "text/plain": [
       "<Figure size 432x288 with 1 Axes>"
      ]
     },
     "metadata": {
      "needs_background": "light"
     },
     "output_type": "display_data"
    }
   ],
   "source": [
    "plt.plot([0, 1, 2, 3, 4],\n",
    "         [1, 1, 0, 0, 1],\n",
    "         'b', marker = 'o', markersize=10, linestyle=\"\")\n",
    "\n",
    "qranswer = solve_triangular(r[:3], qtb[:3])\n",
    "\n",
    "xvec = np.linspace(0, 5, 101)\n",
    "yvec = qranswer[0] + (qranswer[1] * xvec) + (qranswer[2] * (xvec ** 2))\n",
    "\n",
    "yvecLU = luanswer[0] + (luanswer[1] * xvec) + (luanswer[2] * (xvec ** 2))\n",
    "\n",
    "plt.plot(xvec, yvec, 'black')\n",
    "plt.plot(xvec, yvecLU, color='magenta', linestyle='dashed')\n",
    "print(\"LU Residual\", (np.linalg.norm((A @ xLU) - b)) ** 2)\n",
    "print(\"QR Residual\", (np.linalg.norm((r @ x) - qtb)) ** 2)"
   ]
  },
  {
   "cell_type": "markdown",
   "id": "56c6feac",
   "metadata": {},
   "source": [
    "## Problem #7\n",
    "\n",
    "Marcy has been studying enrollment at the University of Washington.  The spring enrollment for the past ten years is shown in the following table:\n",
    "\n",
    "| Year | Students |\n",
    "| ---- | -------- |\n",
    "| 2022 | 44939 |\n",
    "| 2021 | 44157 |\n",
    "| 2020 | 43617 |\n",
    "| 2019 | 43859 |\n",
    "| 2018 | 43035 |\n",
    "| 2017 | 42355 |\n",
    "| 2016 | 42023 |\n",
    "| 2015 | 41294 |\n",
    "| 2014 | 40434 |\n",
    "| 2013 | 39896 |\n",
    "\n",
    "She wants to estimate by how much enrollment has been increasing each year and also by how much that rate of increase is accelerating (or decelerating).  Fortunately, Marcy took Applied Math 352 when she was a student at UW, so she knows exactly which of the following facts will help her solve this problem\n",
    "\n",
    "* The University of Washington was founded in 1861\n",
    "* Rates of change can be computed by taking derivatives\n",
    "* Decision trees are sometimes an effective tool for solving machine learning problems\n",
    "* The best way to compute an average rate of change is to employ a model in which the desired rate of change is constant\n",
    "* The increase in enrollment correlates with increases in tuition\n",
    "* Last week, Charles caught a bass from the dock on the east side of the Montlake Cut\n",
    "* The UW registrar is responsible for tracking enrollment"
   ]
  },
  {
   "cell_type": "code",
   "execution_count": 34,
   "id": "b4b8d5ee",
   "metadata": {},
   "outputs": [
    {
     "name": "stdout",
     "output_type": "stream",
     "text": [
      "[-1.04873542e+06  5.40915152e+02]\n",
      "Enrollment increasing: 540.9151515157894 students per year\n"
     ]
    },
    {
     "data": {
      "image/png": "[encoded data removed]",
      "text/plain": [
       "<Figure size 432x288 with 1 Axes>"
      ]
     },
     "metadata": {
      "needs_background": "light"
     },
     "output_type": "display_data"
    }
   ],
   "source": [
    "enrollment = [39896, 40434, 41294, 42023, 42355, 43035, 43859, 43617, 44157, 44939]\n",
    "time = [2013, 2014, 2015, 2016, 2017, 2018, 2019, 2020, 2021, 2022]\n",
    "\n",
    "degree = 1\n",
    "tvec = np.array(time)\n",
    "vmat = np.array([[x ** j for j in range(degree + 1)] for x in tvec])\n",
    "lupiv = lu_factor(vmat.T @ vmat)\n",
    "\n",
    "avec = lu_solve(lupiv, vmat.T @ enrollment)\n",
    "xvec = np.linspace(2013, 2022, 10)\n",
    "yvec = np.zeros(10)\n",
    "\n",
    "for i in range(degree, -1, -1):\n",
    "    yvec *= xvec\n",
    "    yvec += avec[i]\n",
    "plt.plot(time, enrollment, 'g', marker = 'o', markersize=5, linestyle=\"\")\n",
    "plt.plot(xvec, yvec, 'b')\n",
    "print(avec)\n",
    "print(\"Enrollment increasing:\", avec[1], \"students per year\")"
   ]
  },
  {
   "cell_type": "code",
   "execution_count": 35,
   "id": "cbf2f819",
   "metadata": {},
   "outputs": [
    {
     "name": "stdout",
     "output_type": "stream",
     "text": [
      "[-9.24090178e+07  9.11089127e+04 -2.24456004e+01]\n",
      "Rate of increase acceleration: -44.89120077880826\n"
     ]
    },
    {
     "data": {
      "image/png": "[encoded data removed]",
      "text/plain": [
       "<Figure size 432x288 with 1 Axes>"
      ]
     },
     "metadata": {
      "needs_background": "light"
     },
     "output_type": "display_data"
    }
   ],
   "source": [
    "degree = 2\n",
    "tvec = np.array(time)\n",
    "vmat = np.array([[x ** j for j in range(degree + 1)] for x in tvec])\n",
    "lupiv = lu_factor(vmat.T @ vmat)\n",
    "xvec = np.linspace(2013, 2022, 10)\n",
    "yvec = np.zeros(10)\n",
    "\n",
    "avec = lu_solve(lupiv, vmat.T @ enrollment)\n",
    "\n",
    "for i in range(degree, -1, -1):\n",
    "    yvec *= xvec\n",
    "    yvec += avec[i]\n",
    "plt.plot(time, enrollment, 'g', marker = 'o', markersize=5, linestyle=\"\")\n",
    "plt.plot(xvec, yvec, 'b')\n",
    "print(avec)\n",
    "print(\"Rate of increase acceleration:\", avec[2] * 2)"
   ]
  },
  {
   "cell_type": "code",
   "execution_count": null,
   "id": "8915cdb9",
   "metadata": {},
   "outputs": [],
   "source": []
  }
 ],
 "metadata": {
  "kernelspec": {
   "display_name": "Python 3 (ipykernel)",
   "language": "python",
   "name": "python3"
  },
  "language_info": {
   "codemirror_mode": {
    "name": "ipython",
    "version": 3
   },
   "file_extension": ".py",
   "mimetype": "text/x-python",
   "name": "python",
   "nbconvert_exporter": "python",
   "pygments_lexer": "ipython3",
   "version": "3.9.7"
  }
 },
 "nbformat": 4,
 "nbformat_minor": 5
}
